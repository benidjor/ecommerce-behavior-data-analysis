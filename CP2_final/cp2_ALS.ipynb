{
  "cells": [
    {
      "cell_type": "code",
      "execution_count": 1,
      "metadata": {
        "id": "Nwi5NgkUJRdv",
        "outputId": "5e698393-d922-4559-a672-b497a6c895aa"
      },
      "outputs": [
        {
          "name": "stdout",
          "output_type": "stream",
          "text": [
            "Note: you may need to restart the kernel to use updated packages.\n"
          ]
        },
        {
          "name": "stderr",
          "output_type": "stream",
          "text": [
            "WARNING: You are using pip version 21.3.1; however, version 23.3.2 is available.\n",
            "You should consider upgrading via the 'c:\\Users\\aryij\\AppData\\Local\\Programs\\Python\\Python310\\python.exe -m pip install --upgrade pip' command.\n"
          ]
        }
      ],
      "source": [
        "pip install implicit umap-learn -q"
      ]
    },
    {
      "cell_type": "code",
      "execution_count": 2,
      "metadata": {
        "id": "7dIbui3aJRdy",
        "outputId": "ac55626d-ef15-41b5-8596-8bf46ebe52d8"
      },
      "outputs": [],
      "source": [
        "from implicit.als import AlternatingLeastSquares\n",
        "from implicit.nearest_neighbours import bm25_weight\n",
        "import numpy as np\n",
        "import matplotlib.pyplot as plt\n",
        "import pandas as pd\n",
        "from umap import UMAP\n",
        "from scipy.sparse import csr_matrix\n",
        "import scipy.sparse as sparse\n",
        "from scipy.sparse.linalg import spsolve\n",
        "import random"
      ]
    },
    {
      "cell_type": "markdown",
      "metadata": {
        "id": "gyiQ60ZXJRdz"
      },
      "source": [
        "## 데이터프레임 로드"
      ]
    },
    {
      "cell_type": "code",
      "execution_count": 3,
      "metadata": {
        "id": "hZMNOud8JRd1"
      },
      "outputs": [],
      "source": [
        "# parquet_path = \"/content/drive/MyDrive/Colab Notebooks/Datasets/cp2_ecommerce/df_mv_filled.parquet\"\n",
        "parquet_path = \"D:/cp2_dataset/df_cat.parquet\"\n",
        "df = pd.read_parquet(parquet_path, engine='pyarrow')"
      ]
    },
    {
      "cell_type": "code",
      "execution_count": 4,
      "metadata": {
        "id": "Wdie9FEJJRd1",
        "outputId": "bce26db5-ec0a-454b-a6bd-083b7d491e2e"
      },
      "outputs": [
        {
          "data": {
            "text/html": [
              "<div>\n",
              "<style scoped>\n",
              "    .dataframe tbody tr th:only-of-type {\n",
              "        vertical-align: middle;\n",
              "    }\n",
              "\n",
              "    .dataframe tbody tr th {\n",
              "        vertical-align: top;\n",
              "    }\n",
              "\n",
              "    .dataframe thead th {\n",
              "        text-align: right;\n",
              "    }\n",
              "</style>\n",
              "<table border=\"1\" class=\"dataframe\">\n",
              "  <thead>\n",
              "    <tr style=\"text-align: right;\">\n",
              "      <th></th>\n",
              "      <th>event_time</th>\n",
              "      <th>month</th>\n",
              "      <th>day</th>\n",
              "      <th>day_name</th>\n",
              "      <th>hour</th>\n",
              "      <th>event_type</th>\n",
              "      <th>product_id</th>\n",
              "      <th>category_id</th>\n",
              "      <th>category_code</th>\n",
              "      <th>brand</th>\n",
              "      <th>price</th>\n",
              "      <th>user_id</th>\n",
              "      <th>user_session</th>\n",
              "      <th>main_cat</th>\n",
              "      <th>sub_cat_1</th>\n",
              "      <th>sub_cat_2</th>\n",
              "    </tr>\n",
              "  </thead>\n",
              "  <tbody>\n",
              "    <tr>\n",
              "      <th>0</th>\n",
              "      <td>2019-10-01 04:00:00+04:00</td>\n",
              "      <td>10</td>\n",
              "      <td>1</td>\n",
              "      <td>Tuesday</td>\n",
              "      <td>4</td>\n",
              "      <td>view</td>\n",
              "      <td>44600062</td>\n",
              "      <td>2103807459595387724</td>\n",
              "      <td>no_cat</td>\n",
              "      <td>shiseido</td>\n",
              "      <td>35.79</td>\n",
              "      <td>541312140</td>\n",
              "      <td>72d76fde-8bb3-4e00-8c23-a032dfed738c</td>\n",
              "      <td>no_cat</td>\n",
              "      <td>None</td>\n",
              "      <td>None</td>\n",
              "    </tr>\n",
              "    <tr>\n",
              "      <th>1</th>\n",
              "      <td>2019-10-01 04:00:00+04:00</td>\n",
              "      <td>10</td>\n",
              "      <td>1</td>\n",
              "      <td>Tuesday</td>\n",
              "      <td>4</td>\n",
              "      <td>view</td>\n",
              "      <td>3900821</td>\n",
              "      <td>2053013552326770905</td>\n",
              "      <td>appliances.environment.water_heater</td>\n",
              "      <td>aqua</td>\n",
              "      <td>33.20</td>\n",
              "      <td>554748717</td>\n",
              "      <td>9333dfbd-b87a-4708-9857-6336556b0fcc</td>\n",
              "      <td>appliances</td>\n",
              "      <td>environment</td>\n",
              "      <td>water_heater</td>\n",
              "    </tr>\n",
              "    <tr>\n",
              "      <th>2</th>\n",
              "      <td>2019-10-01 04:00:01+04:00</td>\n",
              "      <td>10</td>\n",
              "      <td>1</td>\n",
              "      <td>Tuesday</td>\n",
              "      <td>4</td>\n",
              "      <td>view</td>\n",
              "      <td>17200506</td>\n",
              "      <td>2053013559792632471</td>\n",
              "      <td>furniture.living_room.sofa</td>\n",
              "      <td>no_brand</td>\n",
              "      <td>543.10</td>\n",
              "      <td>519107250</td>\n",
              "      <td>566511c2-e2e3-422b-b695-cf8e6e792ca8</td>\n",
              "      <td>furniture</td>\n",
              "      <td>living_room</td>\n",
              "      <td>sofa</td>\n",
              "    </tr>\n",
              "  </tbody>\n",
              "</table>\n",
              "</div>"
            ],
            "text/plain": [
              "                 event_time  month  day day_name  hour event_type  product_id  \\\n",
              "0 2019-10-01 04:00:00+04:00     10    1  Tuesday     4       view    44600062   \n",
              "1 2019-10-01 04:00:00+04:00     10    1  Tuesday     4       view     3900821   \n",
              "2 2019-10-01 04:00:01+04:00     10    1  Tuesday     4       view    17200506   \n",
              "\n",
              "           category_id                        category_code     brand   price  \\\n",
              "0  2103807459595387724                               no_cat  shiseido   35.79   \n",
              "1  2053013552326770905  appliances.environment.water_heater      aqua   33.20   \n",
              "2  2053013559792632471           furniture.living_room.sofa  no_brand  543.10   \n",
              "\n",
              "     user_id                          user_session    main_cat    sub_cat_1  \\\n",
              "0  541312140  72d76fde-8bb3-4e00-8c23-a032dfed738c      no_cat         None   \n",
              "1  554748717  9333dfbd-b87a-4708-9857-6336556b0fcc  appliances  environment   \n",
              "2  519107250  566511c2-e2e3-422b-b695-cf8e6e792ca8   furniture  living_room   \n",
              "\n",
              "      sub_cat_2  \n",
              "0          None  \n",
              "1  water_heater  \n",
              "2          sofa  "
            ]
          },
          "execution_count": 4,
          "metadata": {},
          "output_type": "execute_result"
        }
      ],
      "source": [
        "df.head(3)"
      ]
    },
    {
      "cell_type": "markdown",
      "metadata": {
        "id": "0T_CtPVpJRd1"
      },
      "source": [
        "### event_type = cart, day_name = 금, 토, 일 데이터만 사용"
      ]
    },
    {
      "cell_type": "code",
      "execution_count": 5,
      "metadata": {
        "id": "_tKf1rJYJRd2"
      },
      "outputs": [],
      "source": [
        "cart_cond = (df[\"event_type\"] == \"cart\")\n",
        "df_cart = df[cart_cond]"
      ]
    },
    {
      "cell_type": "code",
      "execution_count": 6,
      "metadata": {
        "id": "AIlgErOxJRd3",
        "outputId": "aef649f5-81f8-4b2a-b838-9e10be8cc6d9"
      },
      "outputs": [
        {
          "data": {
            "text/plain": [
              "((42448764, 16), (926516, 16))"
            ]
          },
          "execution_count": 6,
          "metadata": {},
          "output_type": "execute_result"
        }
      ],
      "source": [
        "df.shape, df_cart.shape"
      ]
    },
    {
      "cell_type": "code",
      "execution_count": 7,
      "metadata": {
        "id": "2vS5JJvdJRd3",
        "outputId": "2c307d0d-fcd6-4aac-fe8c-61ef5a7c8cf2"
      },
      "outputs": [
        {
          "data": {
            "text/plain": [
              "(42448764, 16)"
            ]
          },
          "execution_count": 7,
          "metadata": {},
          "output_type": "execute_result"
        }
      ],
      "source": [
        "df.shape"
      ]
    },
    {
      "cell_type": "code",
      "execution_count": 8,
      "metadata": {
        "id": "kwktgvTSJRd4"
      },
      "outputs": [],
      "source": [
        "sub_cat_1 = (df_cart[\"sub_cat_1\"] == \"smartphone\") \\\n",
        "            | (df_cart[\"sub_cat_1\"] == \"video\") \\\n",
        "            | (df_cart[\"sub_cat_1\"] == \"notebook\") \\\n",
        "            | (df_cart[\"sub_cat_1\"] == \"kitchen\")\n",
        "\n",
        "day_cond = (df_cart[\"day_name\"] == \"Friday\") \\\n",
        "           | (df_cart[\"day_name\"] == \"Saturday\") \\\n",
        "           | (df_cart[\"day_name\"] == \"Sunday\") "
      ]
    },
    {
      "cell_type": "code",
      "execution_count": 9,
      "metadata": {
        "id": "7IvSJHeXJRd4",
        "outputId": "6ffb9af3-3001-489f-a1bf-545259ea23ba"
      },
      "outputs": [
        {
          "data": {
            "text/plain": [
              "(296943, 16)"
            ]
          },
          "execution_count": 9,
          "metadata": {},
          "output_type": "execute_result"
        }
      ],
      "source": [
        "df_cart_cat = df_cart.loc[sub_cat_1]\n",
        "df_day = df_cart_cat.loc[day_cond]\n",
        "df_day.shape"
      ]
    },
    {
      "cell_type": "code",
      "execution_count": 10,
      "metadata": {
        "id": "_sK3K8iQJRd5"
      },
      "outputs": [],
      "source": [
        "cart_day = df_day[[\"product_id\",\"user_id\"]]"
      ]
    },
    {
      "cell_type": "markdown",
      "metadata": {
        "id": "0ERpsoPJJRd5"
      },
      "source": [
        "### counting을 위해 count 칼럼 생성"
      ]
    },
    {
      "cell_type": "code",
      "execution_count": 11,
      "metadata": {
        "id": "WrLZV_2AJRd5",
        "outputId": "cc439a02-872e-4ab8-d763-957dfcba8cbf"
      },
      "outputs": [
        {
          "name": "stderr",
          "output_type": "stream",
          "text": [
            "c:\\Users\\aryij\\AppData\\Local\\Programs\\Python\\Python310\\lib\\site-packages\\pandas\\core\\indexing.py:1667: SettingWithCopyWarning: \n",
            "A value is trying to be set on a copy of a slice from a DataFrame.\n",
            "Try using .loc[row_indexer,col_indexer] = value instead\n",
            "\n",
            "See the caveats in the documentation: https://pandas.pydata.org/pandas-docs/stable/user_guide/indexing.html#returning-a-view-versus-a-copy\n",
            "  self.obj[key] = value\n"
          ]
        }
      ],
      "source": [
        "cart_day.loc[:, \"count\"] = 1"
      ]
    },
    {
      "cell_type": "code",
      "execution_count": 12,
      "metadata": {
        "id": "W6rRFwwuJRd5",
        "outputId": "52327c61-b467-408f-aff1-991eaa601300"
      },
      "outputs": [
        {
          "data": {
            "text/html": [
              "<div>\n",
              "<style scoped>\n",
              "    .dataframe tbody tr th:only-of-type {\n",
              "        vertical-align: middle;\n",
              "    }\n",
              "\n",
              "    .dataframe tbody tr th {\n",
              "        vertical-align: top;\n",
              "    }\n",
              "\n",
              "    .dataframe thead th {\n",
              "        text-align: right;\n",
              "    }\n",
              "</style>\n",
              "<table border=\"1\" class=\"dataframe\">\n",
              "  <thead>\n",
              "    <tr style=\"text-align: right;\">\n",
              "      <th></th>\n",
              "      <th>product_id</th>\n",
              "      <th>user_id</th>\n",
              "      <th>count</th>\n",
              "    </tr>\n",
              "  </thead>\n",
              "  <tbody>\n",
              "    <tr>\n",
              "      <th>3515590</th>\n",
              "      <td>1005136</td>\n",
              "      <td>512433763</td>\n",
              "      <td>1</td>\n",
              "    </tr>\n",
              "    <tr>\n",
              "      <th>3515915</th>\n",
              "      <td>1003310</td>\n",
              "      <td>556510717</td>\n",
              "      <td>1</td>\n",
              "    </tr>\n",
              "    <tr>\n",
              "      <th>3516066</th>\n",
              "      <td>1005141</td>\n",
              "      <td>514302701</td>\n",
              "      <td>1</td>\n",
              "    </tr>\n",
              "  </tbody>\n",
              "</table>\n",
              "</div>"
            ],
            "text/plain": [
              "         product_id    user_id  count\n",
              "3515590     1005136  512433763      1\n",
              "3515915     1003310  556510717      1\n",
              "3516066     1005141  514302701      1"
            ]
          },
          "execution_count": 12,
          "metadata": {},
          "output_type": "execute_result"
        }
      ],
      "source": [
        "cart_day.head(3)"
      ]
    },
    {
      "cell_type": "code",
      "execution_count": 13,
      "metadata": {
        "id": "YkbJORySJRd6",
        "outputId": "718a75a7-efba-4e8d-b6d2-e936d0c971a6"
      },
      "outputs": [
        {
          "data": {
            "text/plain": [
              "(296943, 3)"
            ]
          },
          "execution_count": 13,
          "metadata": {},
          "output_type": "execute_result"
        }
      ],
      "source": [
        "cart_day.shape"
      ]
    },
    {
      "cell_type": "markdown",
      "metadata": {
        "id": "9HzOBx_sJRd6"
      },
      "source": [
        "### product_id에 따른 설명 테이블 item_lookup 생성"
      ]
    },
    {
      "cell_type": "code",
      "execution_count": 14,
      "metadata": {
        "id": "rBIxPIMQJRd6",
        "outputId": "27593877-b9c1-4a8d-b48b-9ed0aa4d3f04"
      },
      "outputs": [
        {
          "data": {
            "text/html": [
              "<div>\n",
              "<style scoped>\n",
              "    .dataframe tbody tr th:only-of-type {\n",
              "        vertical-align: middle;\n",
              "    }\n",
              "\n",
              "    .dataframe tbody tr th {\n",
              "        vertical-align: top;\n",
              "    }\n",
              "\n",
              "    .dataframe thead th {\n",
              "        text-align: right;\n",
              "    }\n",
              "</style>\n",
              "<table border=\"1\" class=\"dataframe\">\n",
              "  <thead>\n",
              "    <tr style=\"text-align: right;\">\n",
              "      <th></th>\n",
              "      <th>product_id</th>\n",
              "      <th>main_cat</th>\n",
              "      <th>sub_cat_1</th>\n",
              "      <th>sub_cat_2</th>\n",
              "      <th>brand</th>\n",
              "    </tr>\n",
              "  </thead>\n",
              "  <tbody>\n",
              "    <tr>\n",
              "      <th>3515590</th>\n",
              "      <td>1005136</td>\n",
              "      <td>electronics</td>\n",
              "      <td>smartphone</td>\n",
              "      <td>None</td>\n",
              "      <td>apple</td>\n",
              "    </tr>\n",
              "    <tr>\n",
              "      <th>3515915</th>\n",
              "      <td>1003310</td>\n",
              "      <td>electronics</td>\n",
              "      <td>smartphone</td>\n",
              "      <td>None</td>\n",
              "      <td>apple</td>\n",
              "    </tr>\n",
              "    <tr>\n",
              "      <th>3516066</th>\n",
              "      <td>1005141</td>\n",
              "      <td>electronics</td>\n",
              "      <td>smartphone</td>\n",
              "      <td>None</td>\n",
              "      <td>apple</td>\n",
              "    </tr>\n",
              "    <tr>\n",
              "      <th>3516110</th>\n",
              "      <td>1004945</td>\n",
              "      <td>electronics</td>\n",
              "      <td>smartphone</td>\n",
              "      <td>None</td>\n",
              "      <td>samsung</td>\n",
              "    </tr>\n",
              "    <tr>\n",
              "      <th>3516183</th>\n",
              "      <td>1005118</td>\n",
              "      <td>electronics</td>\n",
              "      <td>smartphone</td>\n",
              "      <td>None</td>\n",
              "      <td>apple</td>\n",
              "    </tr>\n",
              "  </tbody>\n",
              "</table>\n",
              "</div>"
            ],
            "text/plain": [
              "         product_id     main_cat   sub_cat_1 sub_cat_2    brand\n",
              "3515590     1005136  electronics  smartphone      None    apple\n",
              "3515915     1003310  electronics  smartphone      None    apple\n",
              "3516066     1005141  electronics  smartphone      None    apple\n",
              "3516110     1004945  electronics  smartphone      None  samsung\n",
              "3516183     1005118  electronics  smartphone      None    apple"
            ]
          },
          "execution_count": 14,
          "metadata": {},
          "output_type": "execute_result"
        }
      ],
      "source": [
        "item_lookup = df_day[['product_id','main_cat', \"sub_cat_1\", \"sub_cat_2\", \"brand\"]].drop_duplicates()\n",
        "item_lookup.head()"
      ]
    },
    {
      "cell_type": "markdown",
      "metadata": {
        "id": "wdPfW54yJRd7"
      },
      "source": [
        "### Train / Test dataset 생성"
      ]
    },
    {
      "cell_type": "code",
      "execution_count": 15,
      "metadata": {
        "id": "IEUiMm8xJRd7",
        "outputId": "962919bf-58a0-4015-abf9-8ccd4c432d51"
      },
      "outputs": [
        {
          "name": "stderr",
          "output_type": "stream",
          "text": [
            "C:\\Users\\aryij\\AppData\\Local\\Temp\\ipykernel_16756\\2530875755.py:5: SettingWithCopyWarning: \n",
            "A value is trying to be set on a copy of a slice from a DataFrame.\n",
            "Try using .loc[row_indexer,col_indexer] = value instead\n",
            "\n",
            "See the caveats in the documentation: https://pandas.pydata.org/pandas-docs/stable/user_guide/indexing.html#returning-a-view-versus-a-copy\n",
            "  cart_day[\"random\"] = np.random.random(size=len(cart_day))\n"
          ]
        }
      ],
      "source": [
        "# test_set 비율 0.3\n",
        "valid_pct = 0.3\n",
        "\n",
        "np.random.seed(42)\n",
        "cart_day[\"random\"] = np.random.random(size=len(cart_day))\n",
        "\n",
        "train_mask = cart_day[\"random\"] < (1-valid_pct)\n",
        "valid_mask = cart_day[\"random\"] >= (1-valid_pct)\n",
        "\n",
        "# 고객과 아이템 별로 총 얼마나 구매했는지 \n",
        "grouped_cart_train = cart_day[train_mask].groupby([\"user_id\", \"product_id\"]).size().to_frame(\"count\").reset_index()\n",
        "grouped_cart_valid = cart_day[valid_mask].groupby([\"user_id\", \"product_id\"]).size().to_frame(\"count\").reset_index()"
      ]
    },
    {
      "cell_type": "code",
      "execution_count": 16,
      "metadata": {
        "id": "Q5UCKXr9JRd7"
      },
      "outputs": [],
      "source": [
        "sample_weight_train = np.log2(grouped_cart_train['count'] + 1)\n",
        "sample_weight_valid = np.log2(grouped_cart_valid['count'] + 1)\n",
        "\n",
        "grouped_cart_train = grouped_cart_train[['user_id', 'product_id']]\n",
        "grouped_cart_valid = grouped_cart_valid[['user_id', 'product_id']]\n",
        "\n",
        "train_users = np.sort(grouped_cart_train.user_id.unique())\n",
        "valid_users = np.sort(grouped_cart_valid.user_id.unique())\n",
        "cold_start_users = set(valid_users) - set(train_users)\n",
        "\n",
        "train_items = np.sort(grouped_cart_train.product_id.unique())\n",
        "valid_items = np.sort(grouped_cart_valid.product_id.unique())\n",
        "cold_start_items = set(valid_items) - set(train_items)\n",
        "\n",
        "# item_lookup 테이블도 train, valid set에 맞게 나눠준다\n",
        "item_lookup_train = item_lookup[item_lookup.product_id.isin(train_items)]\n",
        "item_lookup_valid = item_lookup[item_lookup.product_id.isin(valid_items)]"
      ]
    },
    {
      "cell_type": "markdown",
      "metadata": {
        "id": "RjBPEFg6JRd8"
      },
      "source": [
        "### ALS 알고리즘의 입력값 형태 만들기 위해, 희소 행렬 생성\n",
        "- 희소 행렬\n",
        "    - row : 유니크한 user_id\n",
        "    - column : 유니크한 product_id\n",
        "    - 행렬의 값은 유저가 각 제품 구매한 횟수"
      ]
    },
    {
      "cell_type": "code",
      "execution_count": 17,
      "metadata": {
        "id": "QsS81m6SJRd8"
      },
      "outputs": [],
      "source": [
        "# create zero-based index position <-> user/item ID mappings\n",
        "index_to_user = pd.Series(np.sort(np.unique(grouped_cart_train['user_id'])))\n",
        "index_to_item = pd.Series(np.sort(np.unique(grouped_cart_train['product_id'])))\n",
        "\n",
        "# create reverse mappings from user/item ID to index positions\n",
        "user_to_index = pd.Series(data=index_to_user.index, index=index_to_user.values)\n",
        "item_to_index = pd.Series(data=index_to_item.index, index=index_to_item.values)\n",
        "\n",
        "# convert user/item identifiers to index positions\n",
        "grouped_cart_train_imp = grouped_cart_train.copy()\n",
        "grouped_cart_train_imp['user_id'] = grouped_cart_train['user_id'].map(user_to_index)\n",
        "grouped_cart_train_imp['product_id'] = grouped_cart_train['product_id'].map(item_to_index)"
      ]
    },
    {
      "cell_type": "code",
      "execution_count": 18,
      "metadata": {
        "id": "uf22Ltw4JRd8"
      },
      "outputs": [],
      "source": [
        "# prepare the data for CSR creation\n",
        "data = sample_weight_train\n",
        "rows = grouped_cart_train_imp['user_id']\n",
        "cols = grouped_cart_train_imp['product_id']"
      ]
    },
    {
      "cell_type": "code",
      "execution_count": 19,
      "metadata": {
        "id": "4FIaKpJGJRd9"
      },
      "outputs": [],
      "source": [
        "# matrix가 매우 크기 때문에 Sparse matrix로 바꾸어주어서\n",
        "# zero가 아닌 값들의 위치와 그 값만 저장하도록 메모리 절약!\n",
        "\n",
        "# create the required user-item and item-user CSR matrices\n",
        "items_user_imp = csr_matrix((data, (cols, rows)), shape=(len(train_items), len(train_users)))\n",
        "user_items_imp = items_user_imp.T.tocsr()"
      ]
    },
    {
      "cell_type": "markdown",
      "metadata": {
        "id": "EGTE3fWAJRd9"
      },
      "source": [
        "## 모델링"
      ]
    },
    {
      "cell_type": "markdown",
      "metadata": {
        "id": "Np4m1G4UJRd9"
      },
      "source": [
        "#### Random Model (Base line)\n",
        "- product_id 의 최빈값을 추천하는 것을 baseline 으로 선정\n",
        "- 각 user 들이 가장 많이 cart에 넣는 product을 추천하는 것을 기본으로 하여, 높은 성능의 추천 시스템을 생성하는 것을 우선적으로 진행"
      ]
    },
    {
      "cell_type": "code",
      "execution_count": 20,
      "metadata": {
        "id": "mnEBVxTxJRd9"
      },
      "outputs": [],
      "source": [
        "class RandomModel():\n",
        "    def __init__(self):\n",
        "        self.products = None\n",
        "    \n",
        "    def train(self, products):\n",
        "        self.products = np.asarray(products)\n",
        "        return self\n",
        "\n",
        "    def recommend(self, size=(1,10)):\n",
        "        return np.random.choice(self.products, size=size, replace=False)"
      ]
    },
    {
      "cell_type": "code",
      "execution_count": 21,
      "metadata": {
        "id": "uhQPHr9dJRd9"
      },
      "outputs": [],
      "source": [
        "random_model = RandomModel().train(item_lookup_train.index.tolist())"
      ]
    },
    {
      "cell_type": "code",
      "execution_count": 22,
      "metadata": {
        "id": "zHXCISleJRd9",
        "outputId": "2d2b9ebd-43bf-49f2-f14e-a5a77d7069b7"
      },
      "outputs": [
        {
          "data": {
            "text/plain": [
              "1004856     9169\n",
              "1004767     6838\n",
              "1004833     3777\n",
              "1004870     3588\n",
              "1002544     3060\n",
              "            ... \n",
              "4502129        1\n",
              "1306590        1\n",
              "3100935        1\n",
              "7900423        1\n",
              "18001469       1\n",
              "Name: product_id, Length: 2984, dtype: int64"
            ]
          },
          "execution_count": 22,
          "metadata": {},
          "output_type": "execute_result"
        }
      ],
      "source": [
        "grouped_cart_train[\"product_id\"].value_counts()"
      ]
    },
    {
      "cell_type": "code",
      "execution_count": 23,
      "metadata": {
        "id": "gTPPx0JLJRd-"
      },
      "outputs": [],
      "source": [
        "baseline = grouped_cart_train.copy()"
      ]
    },
    {
      "cell_type": "code",
      "execution_count": 24,
      "metadata": {
        "id": "d8oyJ6NsJRd-"
      },
      "outputs": [],
      "source": [
        "freq = grouped_cart_train[\"product_id\"].mode()[0]"
      ]
    },
    {
      "cell_type": "code",
      "execution_count": 25,
      "metadata": {
        "id": "8tF-DjakJRd-"
      },
      "outputs": [],
      "source": [
        "baseline = [freq] * len(grouped_cart_train)"
      ]
    },
    {
      "cell_type": "code",
      "execution_count": 26,
      "metadata": {
        "id": "5ZdbDTMdJRd-",
        "outputId": "bd283644-f277-408d-cd88-ea25500b9bb0"
      },
      "outputs": [
        {
          "name": "stdout",
          "output_type": "stream",
          "text": [
            "training accuracy:  0.06952585324426179\n"
          ]
        }
      ],
      "source": [
        "# 최다 product_id의 빈도를 정확도 baseline으로 선정\n",
        "from sklearn.metrics import accuracy_score\n",
        "print(\"training accuracy: \", accuracy_score(grouped_cart_train[\"product_id\"], baseline))"
      ]
    },
    {
      "cell_type": "code",
      "execution_count": null,
      "metadata": {
        "id": "dGVh4Qo1JRd-"
      },
      "outputs": [],
      "source": []
    },
    {
      "cell_type": "code",
      "execution_count": null,
      "metadata": {
        "id": "ih4ARM0xJRd-"
      },
      "outputs": [],
      "source": []
    },
    {
      "cell_type": "markdown",
      "metadata": {
        "id": "f_SVHWTKJRd-"
      },
      "source": [
        "### Alternating Least Squares (ALS) model"
      ]
    },
    {
      "cell_type": "markdown",
      "metadata": {
        "id": "gi_jfIbmJRd_"
      },
      "source": [
        "#### ALS 특징\n",
        "- Implicit 데이터는 구체적인 점수가 아니므로 사용자가 아이템에 관심있는지 여부(Preference)를 Binary로 표현하여 사용\n",
        "    - 주목할점은 인터랙션이 한번도 없는 경우 Preference값이 음수가 아니라 0이라는 것\n",
        "    \n",
        "- 사용자가 아이템을 얼마나 선호하는지를 나타낸 Confidence 값을 정의\n",
        "    - 여기서 α는 인터랙션이 있는 경우 r의 중요도를 조절하는 하이퍼파라미터이다. \n",
        "    - r의 값이 높아질수록 Confidence 값이 증가하게 만든다(Increasing Function). \n",
        "    - 인터랙션이 없다고 해서 선호하지 않는 것이 아니므로 이런 경우에는 낮은 Confidence 값을 가진다. \n",
        "    - 여기서 r은 이미 알고 있는 값이고, α는 사용자 설정값이므로 Confidence는 상수가 된다. \n",
        "        - 즉, 학습대상이 아니다."
      ]
    },
    {
      "cell_type": "markdown",
      "metadata": {},
      "source": [
        "#### ALS 선정한 이유\n",
        "- CF - ALS / 데이터셋에 유저가 직접적으로 명시한 피드백이 없으므로 암시적 피드백의 특성을 잘 고려한 모델인 Alternating Least Squares(ALS) 모델을 활용하여 추천 시스템을 진행"
      ]
    },
    {
      "cell_type": "code",
      "execution_count": 27,
      "metadata": {
        "id": "tvql5j7SJRd_"
      },
      "outputs": [],
      "source": [
        "# confidence value tuning\n",
        "\n",
        "# In most casing the solutions should be pretty similar after calling fit. It might be worth trying to tune the confidence values passed as an input, potentially by multiplying the confidence weights by a constant (alpha) before calling fit.\n",
        "\n",
        "# You should probably by determining the best value of alpha via cross validation - but a useful heuristic to get started is it to set the alpha param such that the positive examples and negative examples have equal weight:\n",
        "\n",
        "# since all the zeros in the matrix (negative examples) get a default confidence of 1\n",
        "# https://github.com/benfred/implicit/issues/96\n",
        "\n",
        "# fit 하기 전, confidence 값 (alpha) 을 조정한다 \n",
        "# -> negative example 들을 1로 맞춰준다\n",
        "\n",
        "Riu = user_items_imp\n",
        "# nnz : 저장된 값들의 수\n",
        "alpha = (Riu.shape[0] * Riu.shape[1] - Riu.nnz) / sum(Riu.data)"
      ]
    },
    {
      "cell_type": "code",
      "execution_count": 28,
      "metadata": {
        "id": "tBrywpWPJRd_",
        "outputId": "6222197e-c96f-48ad-c44f-4f1b6009d419"
      },
      "outputs": [
        {
          "name": "stderr",
          "output_type": "stream",
          "text": [
            "c:\\Users\\aryij\\AppData\\Local\\Programs\\Python\\Python310\\lib\\site-packages\\implicit\\cpu\\als.py:95: RuntimeWarning: OpenBLAS is configured to use 6 threads. It is highly recommended to disable its internal threadpool by setting the environment variable 'OPENBLAS_NUM_THREADS=1' or by calling 'threadpoolctl.threadpool_limits(1, \"blas\")'. Having OpenBLAS use a threadpool can lead to severe performance issues here.\n",
            "  check_blas_config()\n"
          ]
        },
        {
          "data": {
            "application/vnd.jupyter.widget-view+json": {
              "model_id": "1d458eb21b674e078709734a36be318c",
              "version_major": 2,
              "version_minor": 0
            },
            "text/plain": [
              "  0%|          | 0/20 [00:00<?, ?it/s]"
            ]
          },
          "metadata": {},
          "output_type": "display_data"
        }
      ],
      "source": [
        "from implicit.als import AlternatingLeastSquares\n",
        "\n",
        "# initialize and fit the model\n",
        "imp_model = AlternatingLeastSquares(factors=64, \n",
        "                                    random_state=42,\n",
        "                                    regularization=0.05,\n",
        "                                    iterations=20, \n",
        "                                    calculate_training_loss=True)\n",
        "imp_model.fit(alpha * user_items_imp)"
      ]
    },
    {
      "cell_type": "markdown",
      "metadata": {
        "id": "CBAOd2X4JRd_"
      },
      "source": [
        "## Evaluation"
      ]
    },
    {
      "cell_type": "markdown",
      "metadata": {
        "id": "0tUivWIgJRd_"
      },
      "source": [
        "#### Random Model"
      ]
    },
    {
      "cell_type": "code",
      "execution_count": 29,
      "metadata": {
        "id": "1hb9AjUVJRd_",
        "outputId": "74d3e916-120a-4ab4-a464-f605db04641e"
      },
      "outputs": [
        {
          "data": {
            "text/html": [
              "<div>\n",
              "<style scoped>\n",
              "    .dataframe tbody tr th:only-of-type {\n",
              "        vertical-align: middle;\n",
              "    }\n",
              "\n",
              "    .dataframe tbody tr th {\n",
              "        vertical-align: top;\n",
              "    }\n",
              "\n",
              "    .dataframe thead th {\n",
              "        text-align: right;\n",
              "    }\n",
              "</style>\n",
              "<table border=\"1\" class=\"dataframe\">\n",
              "  <thead>\n",
              "    <tr style=\"text-align: right;\">\n",
              "      <th></th>\n",
              "      <th>product_id</th>\n",
              "      <th>main_cat</th>\n",
              "      <th>sub_cat_1</th>\n",
              "      <th>sub_cat_2</th>\n",
              "      <th>brand</th>\n",
              "    </tr>\n",
              "  </thead>\n",
              "  <tbody>\n",
              "    <tr>\n",
              "      <th>3630185</th>\n",
              "      <td>2702630</td>\n",
              "      <td>appliances</td>\n",
              "      <td>kitchen</td>\n",
              "      <td>refrigerators</td>\n",
              "      <td>midea</td>\n",
              "    </tr>\n",
              "    <tr>\n",
              "      <th>3556959</th>\n",
              "      <td>1801766</td>\n",
              "      <td>electronics</td>\n",
              "      <td>video</td>\n",
              "      <td>tv</td>\n",
              "      <td>artel</td>\n",
              "    </tr>\n",
              "    <tr>\n",
              "      <th>4827907</th>\n",
              "      <td>2501740</td>\n",
              "      <td>appliances</td>\n",
              "      <td>kitchen</td>\n",
              "      <td>oven</td>\n",
              "      <td>redmond</td>\n",
              "    </tr>\n",
              "    <tr>\n",
              "      <th>3522199</th>\n",
              "      <td>3100341</td>\n",
              "      <td>appliances</td>\n",
              "      <td>kitchen</td>\n",
              "      <td>blender</td>\n",
              "      <td>scarlett</td>\n",
              "    </tr>\n",
              "    <tr>\n",
              "      <th>24419074</th>\n",
              "      <td>2500562</td>\n",
              "      <td>appliances</td>\n",
              "      <td>kitchen</td>\n",
              "      <td>oven</td>\n",
              "      <td>darina</td>\n",
              "    </tr>\n",
              "    <tr>\n",
              "      <th>3950251</th>\n",
              "      <td>10900114</td>\n",
              "      <td>appliances</td>\n",
              "      <td>kitchen</td>\n",
              "      <td>mixer</td>\n",
              "      <td>saturn</td>\n",
              "    </tr>\n",
              "    <tr>\n",
              "      <th>17309768</th>\n",
              "      <td>1801960</td>\n",
              "      <td>electronics</td>\n",
              "      <td>video</td>\n",
              "      <td>tv</td>\n",
              "      <td>haier</td>\n",
              "    </tr>\n",
              "    <tr>\n",
              "      <th>36498168</th>\n",
              "      <td>4600702</td>\n",
              "      <td>appliances</td>\n",
              "      <td>kitchen</td>\n",
              "      <td>dishwasher</td>\n",
              "      <td>indesit</td>\n",
              "    </tr>\n",
              "    <tr>\n",
              "      <th>3521328</th>\n",
              "      <td>3601485</td>\n",
              "      <td>appliances</td>\n",
              "      <td>kitchen</td>\n",
              "      <td>dishwasher</td>\n",
              "      <td>lg</td>\n",
              "    </tr>\n",
              "    <tr>\n",
              "      <th>25963862</th>\n",
              "      <td>2600739</td>\n",
              "      <td>appliances</td>\n",
              "      <td>kitchen</td>\n",
              "      <td>cooker</td>\n",
              "      <td>gefest</td>\n",
              "    </tr>\n",
              "  </tbody>\n",
              "</table>\n",
              "</div>"
            ],
            "text/plain": [
              "          product_id     main_cat sub_cat_1      sub_cat_2     brand\n",
              "3630185      2702630   appliances   kitchen  refrigerators     midea\n",
              "3556959      1801766  electronics     video             tv     artel\n",
              "4827907      2501740   appliances   kitchen           oven   redmond\n",
              "3522199      3100341   appliances   kitchen        blender  scarlett\n",
              "24419074     2500562   appliances   kitchen           oven    darina\n",
              "3950251     10900114   appliances   kitchen          mixer    saturn\n",
              "17309768     1801960  electronics     video             tv     haier\n",
              "36498168     4600702   appliances   kitchen     dishwasher   indesit\n",
              "3521328      3601485   appliances   kitchen     dishwasher        lg\n",
              "25963862     2600739   appliances   kitchen         cooker    gefest"
            ]
          },
          "execution_count": 29,
          "metadata": {},
          "output_type": "execute_result"
        }
      ],
      "source": [
        "random_rec = random_model.recommend()\n",
        "\n",
        "item_lookup.loc[random_rec[0].tolist(), :]"
      ]
    },
    {
      "cell_type": "markdown",
      "metadata": {
        "id": "KoJgb37VJRd_"
      },
      "source": [
        "#### ALS Model"
      ]
    },
    {
      "cell_type": "markdown",
      "metadata": {
        "id": "v123uUkDJReA"
      },
      "source": [
        "##### Hit_rate, Precision, Recall"
      ]
    },
    {
      "cell_type": "code",
      "execution_count": 30,
      "metadata": {
        "id": "ntRjWuF2JReA"
      },
      "outputs": [],
      "source": [
        "# generate recommendations for all users and map back to original user/item ID values\n",
        "recs_imp = imp_model.recommend_all(user_items=user_items_imp, N=10, filter_already_liked_items=False)\n",
        "recs_imp = pd.DataFrame(recs_imp, index=index_to_user.values).apply(lambda c: c.map(index_to_item))\n",
        "\n",
        "valid_user_items = grouped_cart_valid.groupby('user_id')['product_id'].apply(set).to_dict()\n",
        "combined_users = set(train_users) & set(valid_users)"
      ]
    },
    {
      "cell_type": "code",
      "execution_count": 31,
      "metadata": {
        "id": "wdhOn_4RJReA"
      },
      "outputs": [],
      "source": [
        "# hit_rate, precision, recall 측정\n",
        "imp_hrt = np.mean([int(len(set(recs_imp.loc[u]) & valid_user_items[u]) > 0) for u in combined_users])\n",
        "imp_pre = np.mean([len(set(recs_imp.loc[u]) & valid_user_items[u]) / len(recs_imp.loc[u]) for u in combined_users])\n",
        "imp_rec = np.mean([len(set(recs_imp.loc[u]) & valid_user_items[u]) / len(valid_user_items[u]) for u in combined_users])"
      ]
    },
    {
      "cell_type": "code",
      "execution_count": 32,
      "metadata": {
        "id": "YA3dJr3iJReA",
        "outputId": "18d4f60c-2472-4158-abef-fb03fe39df18"
      },
      "outputs": [
        {
          "name": "stdout",
          "output_type": "stream",
          "text": [
            "Hit Rate : 0.87\n",
            "Precision : 0.1\n",
            "Recall : 0.83\n"
          ]
        }
      ],
      "source": [
        "print(\"Hit Rate :\", round(imp_hrt, 2))\n",
        "print(\"Precision :\", round(imp_pre, 2))\n",
        "print(\"Recall :\", round(imp_rec, 2))"
      ]
    },
    {
      "cell_type": "markdown",
      "metadata": {},
      "source": [
        "##### Hit Rate를 구해본 이유?\n",
        "- Hit Rate는 전체 사용자 수 대비 적중한 사용자를 의미 (적중률)\n"
      ]
    },
    {
      "cell_type": "markdown",
      "metadata": {},
      "source": [
        "##### 추천 시스템 통한 상품 추천 예시"
      ]
    },
    {
      "cell_type": "markdown",
      "metadata": {
        "id": "x4UEsbnwJReA"
      },
      "source": [
        "###### 예시) 실제 user_id가 실제 cart에 가장 많이 넣은 제품들"
      ]
    },
    {
      "cell_type": "code",
      "execution_count": 33,
      "metadata": {
        "id": "Qbpq7mQBJReA",
        "outputId": "b3f6d17a-fb00-40a2-8bfc-6f02c1d741b1"
      },
      "outputs": [
        {
          "data": {
            "text/html": [
              "<div>\n",
              "<style scoped>\n",
              "    .dataframe tbody tr th:only-of-type {\n",
              "        vertical-align: middle;\n",
              "    }\n",
              "\n",
              "    .dataframe tbody tr th {\n",
              "        vertical-align: top;\n",
              "    }\n",
              "\n",
              "    .dataframe thead th {\n",
              "        text-align: right;\n",
              "    }\n",
              "</style>\n",
              "<table border=\"1\" class=\"dataframe\">\n",
              "  <thead>\n",
              "    <tr style=\"text-align: right;\">\n",
              "      <th></th>\n",
              "      <th>product_id</th>\n",
              "      <th>main_cat</th>\n",
              "      <th>sub_cat_1</th>\n",
              "      <th>sub_cat_2</th>\n",
              "      <th>brand</th>\n",
              "      <th>counts</th>\n",
              "    </tr>\n",
              "  </thead>\n",
              "  <tbody>\n",
              "    <tr>\n",
              "      <th>0</th>\n",
              "      <td>1802037</td>\n",
              "      <td>electronics</td>\n",
              "      <td>video</td>\n",
              "      <td>tv</td>\n",
              "      <td>lg</td>\n",
              "      <td>6</td>\n",
              "    </tr>\n",
              "    <tr>\n",
              "      <th>1</th>\n",
              "      <td>1005100</td>\n",
              "      <td>electronics</td>\n",
              "      <td>smartphone</td>\n",
              "      <td>None</td>\n",
              "      <td>samsung</td>\n",
              "      <td>4</td>\n",
              "    </tr>\n",
              "    <tr>\n",
              "      <th>2</th>\n",
              "      <td>1004809</td>\n",
              "      <td>electronics</td>\n",
              "      <td>smartphone</td>\n",
              "      <td>None</td>\n",
              "      <td>xiaomi</td>\n",
              "      <td>3</td>\n",
              "    </tr>\n",
              "    <tr>\n",
              "      <th>3</th>\n",
              "      <td>1004777</td>\n",
              "      <td>electronics</td>\n",
              "      <td>smartphone</td>\n",
              "      <td>None</td>\n",
              "      <td>xiaomi</td>\n",
              "      <td>3</td>\n",
              "    </tr>\n",
              "    <tr>\n",
              "      <th>4</th>\n",
              "      <td>1005204</td>\n",
              "      <td>electronics</td>\n",
              "      <td>smartphone</td>\n",
              "      <td>None</td>\n",
              "      <td>xiaomi</td>\n",
              "      <td>3</td>\n",
              "    </tr>\n",
              "    <tr>\n",
              "      <th>5</th>\n",
              "      <td>1004838</td>\n",
              "      <td>electronics</td>\n",
              "      <td>smartphone</td>\n",
              "      <td>None</td>\n",
              "      <td>oppo</td>\n",
              "      <td>2</td>\n",
              "    </tr>\n",
              "    <tr>\n",
              "      <th>6</th>\n",
              "      <td>1801998</td>\n",
              "      <td>electronics</td>\n",
              "      <td>video</td>\n",
              "      <td>tv</td>\n",
              "      <td>artel</td>\n",
              "      <td>1</td>\n",
              "    </tr>\n",
              "    <tr>\n",
              "      <th>7</th>\n",
              "      <td>1005006</td>\n",
              "      <td>electronics</td>\n",
              "      <td>smartphone</td>\n",
              "      <td>None</td>\n",
              "      <td>xiaomi</td>\n",
              "      <td>1</td>\n",
              "    </tr>\n",
              "    <tr>\n",
              "      <th>8</th>\n",
              "      <td>1801770</td>\n",
              "      <td>electronics</td>\n",
              "      <td>video</td>\n",
              "      <td>tv</td>\n",
              "      <td>changhong</td>\n",
              "      <td>1</td>\n",
              "    </tr>\n",
              "    <tr>\n",
              "      <th>9</th>\n",
              "      <td>1005195</td>\n",
              "      <td>electronics</td>\n",
              "      <td>smartphone</td>\n",
              "      <td>None</td>\n",
              "      <td>xiaomi</td>\n",
              "      <td>1</td>\n",
              "    </tr>\n",
              "  </tbody>\n",
              "</table>\n",
              "</div>"
            ],
            "text/plain": [
              "   product_id     main_cat   sub_cat_1 sub_cat_2      brand  counts\n",
              "0     1802037  electronics       video        tv         lg       6\n",
              "1     1005100  electronics  smartphone      None    samsung       4\n",
              "2     1004809  electronics  smartphone      None     xiaomi       3\n",
              "3     1004777  electronics  smartphone      None     xiaomi       3\n",
              "4     1005204  electronics  smartphone      None     xiaomi       3\n",
              "5     1004838  electronics  smartphone      None       oppo       2\n",
              "6     1801998  electronics       video        tv      artel       1\n",
              "7     1005006  electronics  smartphone      None     xiaomi       1\n",
              "8     1801770  electronics       video        tv  changhong       1\n",
              "9     1005195  electronics  smartphone      None     xiaomi       1"
            ]
          },
          "execution_count": 33,
          "metadata": {},
          "output_type": "execute_result"
        }
      ],
      "source": [
        "user_id = 539016593\n",
        "\n",
        "user_prod_freq = (\n",
        "    cart_day\n",
        "    .loc[cart_day[\"user_id\"] == user_id, \"product_id\"]\n",
        "    .value_counts()\n",
        "    .iloc[:10]\n",
        ")\n",
        "freq_item = item_lookup.set_index(\"product_id\").loc[user_prod_freq.index.to_list(), :]\n",
        "freq_item.loc[:, \"counts\"] = user_prod_freq.to_list()\n",
        "freq_item.reset_index()"
      ]
    },
    {
      "cell_type": "markdown",
      "metadata": {
        "id": "wfS6s6xEJReA"
      },
      "source": [
        "###### 추천 시스템 통해 구해본 해당 user_id를 위한 상품 추천"
      ]
    },
    {
      "cell_type": "code",
      "execution_count": 34,
      "metadata": {
        "id": "MHgmVF0cJReB",
        "outputId": "e753f10f-ced4-4186-a027-499a711a0ffb"
      },
      "outputs": [
        {
          "data": {
            "text/plain": [
              "69793"
            ]
          },
          "execution_count": 34,
          "metadata": {},
          "output_type": "execute_result"
        }
      ],
      "source": [
        "user_idx = list(grouped_cart_train['user_id']).index(user_id)\n",
        "user_idx"
      ]
    },
    {
      "cell_type": "code",
      "execution_count": 35,
      "metadata": {
        "id": "IagiF_qEJReB"
      },
      "outputs": [],
      "source": [
        "ids, scores = imp_model.recommend(user_idx, user_items_imp[user_idx], filter_already_liked_items=False)"
      ]
    },
    {
      "cell_type": "code",
      "execution_count": 36,
      "metadata": {
        "id": "pJcPl4aKJReB",
        "outputId": "2cdb01f9-2c1f-47a7-93e5-5a3d98943bf9"
      },
      "outputs": [
        {
          "data": {
            "text/plain": [
              "array([ 580,  120, 1656,  251, 1604, 2776, 2657, 1208,  493, 1619])"
            ]
          },
          "execution_count": 36,
          "metadata": {},
          "output_type": "execute_result"
        }
      ],
      "source": [
        "ids"
      ]
    },
    {
      "cell_type": "code",
      "execution_count": 37,
      "metadata": {
        "id": "L1tFY_IWJReB",
        "outputId": "697617ff-6177-4513-e6d8-4b118f75981b"
      },
      "outputs": [
        {
          "data": {
            "text/html": [
              "<div>\n",
              "<style scoped>\n",
              "    .dataframe tbody tr th:only-of-type {\n",
              "        vertical-align: middle;\n",
              "    }\n",
              "\n",
              "    .dataframe tbody tr th {\n",
              "        vertical-align: top;\n",
              "    }\n",
              "\n",
              "    .dataframe thead th {\n",
              "        text-align: right;\n",
              "    }\n",
              "</style>\n",
              "<table border=\"1\" class=\"dataframe\">\n",
              "  <thead>\n",
              "    <tr style=\"text-align: right;\">\n",
              "      <th></th>\n",
              "      <th>product_id</th>\n",
              "      <th>score</th>\n",
              "      <th>already_carted</th>\n",
              "    </tr>\n",
              "  </thead>\n",
              "  <tbody>\n",
              "    <tr>\n",
              "      <th>580</th>\n",
              "      <td>1005116</td>\n",
              "      <td>0.960218</td>\n",
              "      <td>True</td>\n",
              "    </tr>\n",
              "    <tr>\n",
              "      <th>120</th>\n",
              "      <td>1004237</td>\n",
              "      <td>0.794287</td>\n",
              "      <td>False</td>\n",
              "    </tr>\n",
              "    <tr>\n",
              "      <th>1656</th>\n",
              "      <td>1005073</td>\n",
              "      <td>0.715895</td>\n",
              "      <td>False</td>\n",
              "    </tr>\n",
              "    <tr>\n",
              "      <th>251</th>\n",
              "      <td>1004566</td>\n",
              "      <td>0.714667</td>\n",
              "      <td>False</td>\n",
              "    </tr>\n",
              "    <tr>\n",
              "      <th>1604</th>\n",
              "      <td>1004259</td>\n",
              "      <td>0.707156</td>\n",
              "      <td>False</td>\n",
              "    </tr>\n",
              "    <tr>\n",
              "      <th>2776</th>\n",
              "      <td>1004767</td>\n",
              "      <td>0.577688</td>\n",
              "      <td>False</td>\n",
              "    </tr>\n",
              "    <tr>\n",
              "      <th>2657</th>\n",
              "      <td>11000168</td>\n",
              "      <td>0.554805</td>\n",
              "      <td>False</td>\n",
              "    </tr>\n",
              "    <tr>\n",
              "      <th>1208</th>\n",
              "      <td>1004870</td>\n",
              "      <td>0.554098</td>\n",
              "      <td>False</td>\n",
              "    </tr>\n",
              "    <tr>\n",
              "      <th>493</th>\n",
              "      <td>1005121</td>\n",
              "      <td>0.539481</td>\n",
              "      <td>False</td>\n",
              "    </tr>\n",
              "    <tr>\n",
              "      <th>1619</th>\n",
              "      <td>1005105</td>\n",
              "      <td>0.529050</td>\n",
              "      <td>False</td>\n",
              "    </tr>\n",
              "  </tbody>\n",
              "</table>\n",
              "</div>"
            ],
            "text/plain": [
              "      product_id     score  already_carted\n",
              "580      1005116  0.960218            True\n",
              "120      1004237  0.794287           False\n",
              "1656     1005073  0.715895           False\n",
              "251      1004566  0.714667           False\n",
              "1604     1004259  0.707156           False\n",
              "2776     1004767  0.577688           False\n",
              "2657    11000168  0.554805           False\n",
              "1208     1004870  0.554098           False\n",
              "493      1005121  0.539481           False\n",
              "1619     1005105  0.529050           False"
            ]
          },
          "execution_count": 37,
          "metadata": {},
          "output_type": "execute_result"
        }
      ],
      "source": [
        "als_rec = pd.DataFrame({\"product_id\": grouped_cart_train[\"product_id\"][ids], \n",
        "                        \"score\": scores, \n",
        "                        \"already_carted\": np.in1d(ids, user_items_imp[user_idx].indices)})\n",
        "als_rec.drop_duplicates(\"product_id\")"
      ]
    },
    {
      "cell_type": "code",
      "execution_count": 38,
      "metadata": {
        "id": "0J08_dezJReB",
        "outputId": "e2e88a85-b95f-44bb-e0ae-65aa042bd899"
      },
      "outputs": [
        {
          "data": {
            "text/html": [
              "<div>\n",
              "<style scoped>\n",
              "    .dataframe tbody tr th:only-of-type {\n",
              "        vertical-align: middle;\n",
              "    }\n",
              "\n",
              "    .dataframe tbody tr th {\n",
              "        vertical-align: top;\n",
              "    }\n",
              "\n",
              "    .dataframe thead th {\n",
              "        text-align: right;\n",
              "    }\n",
              "</style>\n",
              "<table border=\"1\" class=\"dataframe\">\n",
              "  <thead>\n",
              "    <tr style=\"text-align: right;\">\n",
              "      <th></th>\n",
              "      <th>product_id</th>\n",
              "      <th>main_cat</th>\n",
              "      <th>sub_cat_1</th>\n",
              "      <th>sub_cat_2</th>\n",
              "      <th>brand</th>\n",
              "      <th>score</th>\n",
              "      <th>already_carted</th>\n",
              "    </tr>\n",
              "  </thead>\n",
              "  <tbody>\n",
              "    <tr>\n",
              "      <th>0</th>\n",
              "      <td>1005116</td>\n",
              "      <td>electronics</td>\n",
              "      <td>smartphone</td>\n",
              "      <td>None</td>\n",
              "      <td>apple</td>\n",
              "      <td>0.960218</td>\n",
              "      <td>True</td>\n",
              "    </tr>\n",
              "    <tr>\n",
              "      <th>1</th>\n",
              "      <td>1004237</td>\n",
              "      <td>electronics</td>\n",
              "      <td>smartphone</td>\n",
              "      <td>None</td>\n",
              "      <td>apple</td>\n",
              "      <td>0.794287</td>\n",
              "      <td>False</td>\n",
              "    </tr>\n",
              "    <tr>\n",
              "      <th>2</th>\n",
              "      <td>1005073</td>\n",
              "      <td>electronics</td>\n",
              "      <td>smartphone</td>\n",
              "      <td>None</td>\n",
              "      <td>samsung</td>\n",
              "      <td>0.715895</td>\n",
              "      <td>False</td>\n",
              "    </tr>\n",
              "    <tr>\n",
              "      <th>3</th>\n",
              "      <td>1004566</td>\n",
              "      <td>electronics</td>\n",
              "      <td>smartphone</td>\n",
              "      <td>None</td>\n",
              "      <td>huawei</td>\n",
              "      <td>0.714667</td>\n",
              "      <td>False</td>\n",
              "    </tr>\n",
              "    <tr>\n",
              "      <th>4</th>\n",
              "      <td>1004259</td>\n",
              "      <td>electronics</td>\n",
              "      <td>smartphone</td>\n",
              "      <td>None</td>\n",
              "      <td>apple</td>\n",
              "      <td>0.707156</td>\n",
              "      <td>False</td>\n",
              "    </tr>\n",
              "    <tr>\n",
              "      <th>5</th>\n",
              "      <td>1004767</td>\n",
              "      <td>electronics</td>\n",
              "      <td>smartphone</td>\n",
              "      <td>None</td>\n",
              "      <td>samsung</td>\n",
              "      <td>0.577688</td>\n",
              "      <td>False</td>\n",
              "    </tr>\n",
              "    <tr>\n",
              "      <th>6</th>\n",
              "      <td>11000168</td>\n",
              "      <td>appliances</td>\n",
              "      <td>kitchen</td>\n",
              "      <td>toster</td>\n",
              "      <td>delonghi</td>\n",
              "      <td>0.554805</td>\n",
              "      <td>False</td>\n",
              "    </tr>\n",
              "    <tr>\n",
              "      <th>7</th>\n",
              "      <td>1004870</td>\n",
              "      <td>electronics</td>\n",
              "      <td>smartphone</td>\n",
              "      <td>None</td>\n",
              "      <td>samsung</td>\n",
              "      <td>0.554098</td>\n",
              "      <td>False</td>\n",
              "    </tr>\n",
              "    <tr>\n",
              "      <th>8</th>\n",
              "      <td>1005121</td>\n",
              "      <td>electronics</td>\n",
              "      <td>smartphone</td>\n",
              "      <td>None</td>\n",
              "      <td>apple</td>\n",
              "      <td>0.539481</td>\n",
              "      <td>False</td>\n",
              "    </tr>\n",
              "    <tr>\n",
              "      <th>9</th>\n",
              "      <td>1005105</td>\n",
              "      <td>electronics</td>\n",
              "      <td>smartphone</td>\n",
              "      <td>None</td>\n",
              "      <td>apple</td>\n",
              "      <td>0.529050</td>\n",
              "      <td>False</td>\n",
              "    </tr>\n",
              "  </tbody>\n",
              "</table>\n",
              "</div>"
            ],
            "text/plain": [
              "   product_id     main_cat   sub_cat_1 sub_cat_2     brand     score  \\\n",
              "0     1005116  electronics  smartphone      None     apple  0.960218   \n",
              "1     1004237  electronics  smartphone      None     apple  0.794287   \n",
              "2     1005073  electronics  smartphone      None   samsung  0.715895   \n",
              "3     1004566  electronics  smartphone      None    huawei  0.714667   \n",
              "4     1004259  electronics  smartphone      None     apple  0.707156   \n",
              "5     1004767  electronics  smartphone      None   samsung  0.577688   \n",
              "6    11000168   appliances     kitchen    toster  delonghi  0.554805   \n",
              "7     1004870  electronics  smartphone      None   samsung  0.554098   \n",
              "8     1005121  electronics  smartphone      None     apple  0.539481   \n",
              "9     1005105  electronics  smartphone      None     apple  0.529050   \n",
              "\n",
              "   already_carted  \n",
              "0            True  \n",
              "1           False  \n",
              "2           False  \n",
              "3           False  \n",
              "4           False  \n",
              "5           False  \n",
              "6           False  \n",
              "7           False  \n",
              "8           False  \n",
              "9           False  "
            ]
          },
          "execution_count": 38,
          "metadata": {},
          "output_type": "execute_result"
        }
      ],
      "source": [
        "als_item_lookup = item_lookup_train.set_index(\"product_id\").loc[als_rec[\"product_id\"].to_list(), :].reset_index()\n",
        "als_item_lookup.merge(als_rec).drop_duplicates(\"product_id\").reset_index(drop=True)"
      ]
    },
    {
      "cell_type": "markdown",
      "metadata": {
        "id": "9i9zzm1KJReB"
      },
      "source": [
        "###### 실제 user_id가 넣은 상품과 비슷한 아이템"
      ]
    },
    {
      "cell_type": "code",
      "execution_count": 39,
      "metadata": {
        "id": "j2qtUtP_JReC",
        "outputId": "174c2a6d-52f5-4a1a-9443-be4c635c8ab7"
      },
      "outputs": [
        {
          "data": {
            "text/html": [
              "<div>\n",
              "<style scoped>\n",
              "    .dataframe tbody tr th:only-of-type {\n",
              "        vertical-align: middle;\n",
              "    }\n",
              "\n",
              "    .dataframe tbody tr th {\n",
              "        vertical-align: top;\n",
              "    }\n",
              "\n",
              "    .dataframe thead th {\n",
              "        text-align: right;\n",
              "    }\n",
              "</style>\n",
              "<table border=\"1\" class=\"dataframe\">\n",
              "  <thead>\n",
              "    <tr style=\"text-align: right;\">\n",
              "      <th></th>\n",
              "      <th>product_id</th>\n",
              "      <th>main_cat</th>\n",
              "      <th>sub_cat_1</th>\n",
              "      <th>sub_cat_2</th>\n",
              "      <th>brand</th>\n",
              "      <th>score</th>\n",
              "    </tr>\n",
              "  </thead>\n",
              "  <tbody>\n",
              "    <tr>\n",
              "      <th>0</th>\n",
              "      <td>1801690</td>\n",
              "      <td>electronics</td>\n",
              "      <td>video</td>\n",
              "      <td>tv</td>\n",
              "      <td>samsung</td>\n",
              "      <td>1.000000</td>\n",
              "    </tr>\n",
              "    <tr>\n",
              "      <th>1</th>\n",
              "      <td>1003304</td>\n",
              "      <td>electronics</td>\n",
              "      <td>smartphone</td>\n",
              "      <td>None</td>\n",
              "      <td>apple</td>\n",
              "      <td>0.829670</td>\n",
              "    </tr>\n",
              "    <tr>\n",
              "      <th>2</th>\n",
              "      <td>1004741</td>\n",
              "      <td>electronics</td>\n",
              "      <td>smartphone</td>\n",
              "      <td>None</td>\n",
              "      <td>xiaomi</td>\n",
              "      <td>0.828519</td>\n",
              "    </tr>\n",
              "    <tr>\n",
              "      <th>3</th>\n",
              "      <td>1004227</td>\n",
              "      <td>electronics</td>\n",
              "      <td>smartphone</td>\n",
              "      <td>None</td>\n",
              "      <td>apple</td>\n",
              "      <td>0.824900</td>\n",
              "    </tr>\n",
              "    <tr>\n",
              "      <th>4</th>\n",
              "      <td>4100346</td>\n",
              "      <td>electronics</td>\n",
              "      <td>video</td>\n",
              "      <td>tv</td>\n",
              "      <td>sony</td>\n",
              "      <td>0.819131</td>\n",
              "    </tr>\n",
              "    <tr>\n",
              "      <th>5</th>\n",
              "      <td>1005073</td>\n",
              "      <td>electronics</td>\n",
              "      <td>smartphone</td>\n",
              "      <td>None</td>\n",
              "      <td>samsung</td>\n",
              "      <td>0.818565</td>\n",
              "    </tr>\n",
              "    <tr>\n",
              "      <th>6</th>\n",
              "      <td>1004856</td>\n",
              "      <td>electronics</td>\n",
              "      <td>smartphone</td>\n",
              "      <td>None</td>\n",
              "      <td>samsung</td>\n",
              "      <td>0.808489</td>\n",
              "    </tr>\n",
              "    <tr>\n",
              "      <th>7</th>\n",
              "      <td>1004856</td>\n",
              "      <td>electronics</td>\n",
              "      <td>smartphone</td>\n",
              "      <td>None</td>\n",
              "      <td>samsung</td>\n",
              "      <td>0.808489</td>\n",
              "    </tr>\n",
              "    <tr>\n",
              "      <th>8</th>\n",
              "      <td>1004258</td>\n",
              "      <td>electronics</td>\n",
              "      <td>smartphone</td>\n",
              "      <td>None</td>\n",
              "      <td>apple</td>\n",
              "      <td>0.806378</td>\n",
              "    </tr>\n",
              "    <tr>\n",
              "      <th>9</th>\n",
              "      <td>1004838</td>\n",
              "      <td>electronics</td>\n",
              "      <td>smartphone</td>\n",
              "      <td>None</td>\n",
              "      <td>oppo</td>\n",
              "      <td>0.806199</td>\n",
              "    </tr>\n",
              "    <tr>\n",
              "      <th>10</th>\n",
              "      <td>1004856</td>\n",
              "      <td>electronics</td>\n",
              "      <td>smartphone</td>\n",
              "      <td>None</td>\n",
              "      <td>samsung</td>\n",
              "      <td>0.804537</td>\n",
              "    </tr>\n",
              "    <tr>\n",
              "      <th>11</th>\n",
              "      <td>1004856</td>\n",
              "      <td>electronics</td>\n",
              "      <td>smartphone</td>\n",
              "      <td>None</td>\n",
              "      <td>samsung</td>\n",
              "      <td>0.804537</td>\n",
              "    </tr>\n",
              "  </tbody>\n",
              "</table>\n",
              "</div>"
            ],
            "text/plain": [
              "    product_id     main_cat   sub_cat_1 sub_cat_2    brand     score\n",
              "0      1801690  electronics       video        tv  samsung  1.000000\n",
              "1      1003304  electronics  smartphone      None    apple  0.829670\n",
              "2      1004741  electronics  smartphone      None   xiaomi  0.828519\n",
              "3      1004227  electronics  smartphone      None    apple  0.824900\n",
              "4      4100346  electronics       video        tv     sony  0.819131\n",
              "5      1005073  electronics  smartphone      None  samsung  0.818565\n",
              "6      1004856  electronics  smartphone      None  samsung  0.808489\n",
              "7      1004856  electronics  smartphone      None  samsung  0.808489\n",
              "8      1004258  electronics  smartphone      None    apple  0.806378\n",
              "9      1004838  electronics  smartphone      None     oppo  0.806199\n",
              "10     1004856  electronics  smartphone      None  samsung  0.804537\n",
              "11     1004856  electronics  smartphone      None  samsung  0.804537"
            ]
          },
          "execution_count": 39,
          "metadata": {},
          "output_type": "execute_result"
        }
      ],
      "source": [
        "product_id = 1801690\n",
        "product_idx = list(grouped_cart_train['product_id']).index(product_id)\n",
        "\n",
        "similar_ids, similar_scores = imp_model.similar_items(product_idx)\n",
        "\n",
        "sim_items = pd.DataFrame({\"product_id\": grouped_cart_train[\"product_id\"][similar_ids], \n",
        "                        \"score\": similar_scores})\n",
        "\n",
        "als_sim_item_lookup = item_lookup_train.set_index(\"product_id\").loc[sim_items[\"product_id\"].to_list(), :].reset_index()\n",
        "als_sim_item_lookup.merge(sim_items).sort_values(\"score\", ascending=False).reset_index(drop=True)"
      ]
    },
    {
      "cell_type": "markdown",
      "metadata": {
        "id": "9-g09ZenJReC"
      },
      "source": [
        "# 모델링 결과 비교 및 최종 의견\n",
        "\n",
        "- Baseline\n",
        "  - accuracy: 0.06891920602160981\n",
        "\n",
        "- ALS Model\n",
        "  - Hit Rate : 0.87\n",
        "  - Precision : 0.1\n",
        "  - Recall : 0.83\n",
        "\n",
        "- 모델링 결과 분석\n",
        "  - 낮은 정밀도\n",
        "    - 이커머스에서 추천 정밀도가 낮다면 플랫폼에 대한 신뢰 하락 우려\n",
        "  - 추후 다른 달의 데이터에도 적용 후 똑같이 정밀도가 저조하다면 향후 모델링 개선 필요"
      ]
    },
    {
      "cell_type": "code",
      "execution_count": null,
      "metadata": {
        "id": "A4IlWkdIJReC"
      },
      "outputs": [],
      "source": []
    },
    {
      "cell_type": "code",
      "execution_count": null,
      "metadata": {
        "id": "aX3qiE_mJReC"
      },
      "outputs": [],
      "source": []
    },
    {
      "cell_type": "code",
      "execution_count": null,
      "metadata": {
        "id": "93xpiPb5JReC"
      },
      "outputs": [],
      "source": []
    },
    {
      "cell_type": "code",
      "execution_count": null,
      "metadata": {
        "id": "-nhNc31GJReC"
      },
      "outputs": [],
      "source": []
    }
  ],
  "metadata": {
    "colab": {
      "name": "als_recommend.ipynb",
      "provenance": []
    },
    "interpreter": {
      "hash": "082be1bbb8cf51e79f7eecb97b4a3116b1b28bb6664706b22c0c7433d973cc3c"
    },
    "kernelspec": {
      "display_name": "Python 3.8.13 ('cp2')",
      "language": "python",
      "name": "python3"
    },
    "language_info": {
      "codemirror_mode": {
        "name": "ipython",
        "version": 3
      },
      "file_extension": ".py",
      "mimetype": "text/x-python",
      "name": "python",
      "nbconvert_exporter": "python",
      "pygments_lexer": "ipython3",
      "version": "3.10.0"
    },
    "orig_nbformat": 4
  },
  "nbformat": 4,
  "nbformat_minor": 0
}
