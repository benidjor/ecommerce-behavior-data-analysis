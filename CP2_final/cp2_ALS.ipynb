{
  "cells": [
    {
      "cell_type": "code",
      "execution_count": null,
      "metadata": {
        "id": "Nwi5NgkUJRdv",
        "outputId": "5e698393-d922-4559-a672-b497a6c895aa"
      },
      "outputs": [
        {
          "name": "stdout",
          "output_type": "stream",
          "text": [
            "Note: you may need to restart the kernel to use updated packages.\n"
          ]
        }
      ],
      "source": [
        "pip install implicit umap-learn -q"
      ]
    },
    {
      "cell_type": "code",
      "execution_count": null,
      "metadata": {
        "id": "7dIbui3aJRdy",
        "outputId": "ac55626d-ef15-41b5-8596-8bf46ebe52d8"
      },
      "outputs": [
        {
          "name": "stderr",
          "output_type": "stream",
          "text": [
            "c:\\Users\\aryij\\anaconda3\\envs\\cp2\\lib\\site-packages\\tqdm\\auto.py:22: TqdmWarning: IProgress not found. Please update jupyter and ipywidgets. See https://ipywidgets.readthedocs.io/en/stable/user_install.html\n",
            "  from .autonotebook import tqdm as notebook_tqdm\n"
          ]
        }
      ],
      "source": [
        "from implicit.als import AlternatingLeastSquares\n",
        "from implicit.nearest_neighbours import bm25_weight\n",
        "import numpy as np\n",
        "import matplotlib.pyplot as plt\n",
        "import pandas as pd\n",
        "from umap import UMAP\n",
        "from scipy.sparse import csr_matrix\n",
        "import scipy.sparse as sparse\n",
        "from scipy.sparse.linalg import spsolve\n",
        "import random"
      ]
    },
    {
      "cell_type": "markdown",
      "metadata": {
        "id": "gyiQ60ZXJRdz"
      },
      "source": [
        "## 데이터프레임 로드"
      ]
    },
    {
      "cell_type": "code",
      "execution_count": null,
      "metadata": {
        "id": "hZMNOud8JRd1"
      },
      "outputs": [],
      "source": [
        "# parquet_path = \"/content/drive/MyDrive/Colab Notebooks/Datasets/cp2_ecommerce/df_mv_filled.parquet\"\n",
        "parquet_path = \"D:/cp2_dataset/df_cat_add.parquet\"\n",
        "df = pd.read_parquet(parquet_path, engine='pyarrow')"
      ]
    },
    {
      "cell_type": "code",
      "execution_count": null,
      "metadata": {
        "id": "Wdie9FEJJRd1",
        "outputId": "bce26db5-ec0a-454b-a6bd-083b7d491e2e"
      },
      "outputs": [
        {
          "data": {
            "text/html": [
              "<div>\n",
              "<style scoped>\n",
              "    .dataframe tbody tr th:only-of-type {\n",
              "        vertical-align: middle;\n",
              "    }\n",
              "\n",
              "    .dataframe tbody tr th {\n",
              "        vertical-align: top;\n",
              "    }\n",
              "\n",
              "    .dataframe thead th {\n",
              "        text-align: right;\n",
              "    }\n",
              "</style>\n",
              "<table border=\"1\" class=\"dataframe\">\n",
              "  <thead>\n",
              "    <tr style=\"text-align: right;\">\n",
              "      <th></th>\n",
              "      <th>event_time</th>\n",
              "      <th>month</th>\n",
              "      <th>day</th>\n",
              "      <th>day_name</th>\n",
              "      <th>hour</th>\n",
              "      <th>event_type</th>\n",
              "      <th>product_id</th>\n",
              "      <th>category_id</th>\n",
              "      <th>category_code</th>\n",
              "      <th>brand</th>\n",
              "      <th>price</th>\n",
              "      <th>user_id</th>\n",
              "      <th>user_session</th>\n",
              "      <th>main_cat</th>\n",
              "      <th>sub_cat_1</th>\n",
              "      <th>sub_cat_2</th>\n",
              "    </tr>\n",
              "  </thead>\n",
              "  <tbody>\n",
              "    <tr>\n",
              "      <th>0</th>\n",
              "      <td>2019-10-01 04:00:00+04:00</td>\n",
              "      <td>10</td>\n",
              "      <td>1</td>\n",
              "      <td>Tuesday</td>\n",
              "      <td>4</td>\n",
              "      <td>view</td>\n",
              "      <td>44600062</td>\n",
              "      <td>2103807459595387724</td>\n",
              "      <td>no_cat</td>\n",
              "      <td>shiseido</td>\n",
              "      <td>35.79</td>\n",
              "      <td>541312140</td>\n",
              "      <td>72d76fde-8bb3-4e00-8c23-a032dfed738c</td>\n",
              "      <td>no_cat</td>\n",
              "      <td>None</td>\n",
              "      <td>None</td>\n",
              "    </tr>\n",
              "    <tr>\n",
              "      <th>1</th>\n",
              "      <td>2019-10-01 04:00:00+04:00</td>\n",
              "      <td>10</td>\n",
              "      <td>1</td>\n",
              "      <td>Tuesday</td>\n",
              "      <td>4</td>\n",
              "      <td>view</td>\n",
              "      <td>3900821</td>\n",
              "      <td>2053013552326770905</td>\n",
              "      <td>appliances.environment.water_heater</td>\n",
              "      <td>aqua</td>\n",
              "      <td>33.20</td>\n",
              "      <td>554748717</td>\n",
              "      <td>9333dfbd-b87a-4708-9857-6336556b0fcc</td>\n",
              "      <td>appliances</td>\n",
              "      <td>environment</td>\n",
              "      <td>water_heater</td>\n",
              "    </tr>\n",
              "    <tr>\n",
              "      <th>2</th>\n",
              "      <td>2019-10-01 04:00:01+04:00</td>\n",
              "      <td>10</td>\n",
              "      <td>1</td>\n",
              "      <td>Tuesday</td>\n",
              "      <td>4</td>\n",
              "      <td>view</td>\n",
              "      <td>17200506</td>\n",
              "      <td>2053013559792632471</td>\n",
              "      <td>furniture.living_room.sofa</td>\n",
              "      <td>no_brand</td>\n",
              "      <td>543.10</td>\n",
              "      <td>519107250</td>\n",
              "      <td>566511c2-e2e3-422b-b695-cf8e6e792ca8</td>\n",
              "      <td>furniture</td>\n",
              "      <td>living_room</td>\n",
              "      <td>sofa</td>\n",
              "    </tr>\n",
              "  </tbody>\n",
              "</table>\n",
              "</div>"
            ],
            "text/plain": [
              "                 event_time  month  day day_name  hour event_type  product_id  \\\n",
              "0 2019-10-01 04:00:00+04:00     10    1  Tuesday     4       view    44600062   \n",
              "1 2019-10-01 04:00:00+04:00     10    1  Tuesday     4       view     3900821   \n",
              "2 2019-10-01 04:00:01+04:00     10    1  Tuesday     4       view    17200506   \n",
              "\n",
              "           category_id                        category_code     brand   price  \\\n",
              "0  2103807459595387724                               no_cat  shiseido   35.79   \n",
              "1  2053013552326770905  appliances.environment.water_heater      aqua   33.20   \n",
              "2  2053013559792632471           furniture.living_room.sofa  no_brand  543.10   \n",
              "\n",
              "     user_id                          user_session    main_cat    sub_cat_1  \\\n",
              "0  541312140  72d76fde-8bb3-4e00-8c23-a032dfed738c      no_cat         None   \n",
              "1  554748717  9333dfbd-b87a-4708-9857-6336556b0fcc  appliances  environment   \n",
              "2  519107250  566511c2-e2e3-422b-b695-cf8e6e792ca8   furniture  living_room   \n",
              "\n",
              "      sub_cat_2  \n",
              "0          None  \n",
              "1  water_heater  \n",
              "2          sofa  "
            ]
          },
          "execution_count": 4,
          "metadata": {},
          "output_type": "execute_result"
        }
      ],
      "source": [
        "df.head(3)"
      ]
    },
    {
      "cell_type": "markdown",
      "metadata": {
        "id": "0T_CtPVpJRd1"
      },
      "source": [
        "### event_type = cart, day_name = 금, 토, 일 데이터만 사용"
      ]
    },
    {
      "cell_type": "code",
      "execution_count": null,
      "metadata": {
        "id": "_tKf1rJYJRd2"
      },
      "outputs": [],
      "source": [
        "cart_cond = (df[\"event_type\"] == \"cart\")\n",
        "df_cart = df[cart_cond]"
      ]
    },
    {
      "cell_type": "code",
      "execution_count": null,
      "metadata": {
        "id": "AIlgErOxJRd3",
        "outputId": "aef649f5-81f8-4b2a-b838-9e10be8cc6d9"
      },
      "outputs": [
        {
          "data": {
            "text/plain": [
              "((42380091, 16), (926366, 16))"
            ]
          },
          "execution_count": 6,
          "metadata": {},
          "output_type": "execute_result"
        }
      ],
      "source": [
        "df.shape, df_cart.shape"
      ]
    },
    {
      "cell_type": "code",
      "execution_count": null,
      "metadata": {
        "id": "2vS5JJvdJRd3",
        "outputId": "2c307d0d-fcd6-4aac-fe8c-61ef5a7c8cf2"
      },
      "outputs": [
        {
          "data": {
            "text/plain": [
              "(42380091, 16)"
            ]
          },
          "execution_count": 113,
          "metadata": {},
          "output_type": "execute_result"
        }
      ],
      "source": [
        "df.shape"
      ]
    },
    {
      "cell_type": "code",
      "execution_count": null,
      "metadata": {
        "id": "kwktgvTSJRd4"
      },
      "outputs": [],
      "source": [
        "sub_cat_1 = (df_cart[\"sub_cat_1\"] == \"smartphone\") \\\n",
        "            | (df_cart[\"sub_cat_1\"] == \"video\") \\\n",
        "            | (df_cart[\"sub_cat_1\"] == \"notebook\") \\\n",
        "            | (df_cart[\"sub_cat_1\"] == \"kitchen\")\n",
        "\n",
        "day_cond = (df_cart[\"day_name\"] == \"Friday\") \\\n",
        "           | (df_cart[\"day_name\"] == \"Saturday\") \\\n",
        "           | (df_cart[\"day_name\"] == \"Sunday\") "
      ]
    },
    {
      "cell_type": "code",
      "execution_count": null,
      "metadata": {
        "id": "7IvSJHeXJRd4",
        "outputId": "6ffb9af3-3001-489f-a1bf-545259ea23ba"
      },
      "outputs": [
        {
          "data": {
            "text/plain": [
              "(296936, 16)"
            ]
          },
          "execution_count": 8,
          "metadata": {},
          "output_type": "execute_result"
        }
      ],
      "source": [
        "df_cart_cat = df_cart.loc[sub_cat_1]\n",
        "df_day = df_cart_cat.loc[day_cond]\n",
        "df_day.shape"
      ]
    },
    {
      "cell_type": "code",
      "execution_count": null,
      "metadata": {
        "id": "_sK3K8iQJRd5"
      },
      "outputs": [],
      "source": [
        "cart_day = df_day[[\"product_id\",\"user_id\"]]"
      ]
    },
    {
      "cell_type": "markdown",
      "metadata": {
        "id": "0ERpsoPJJRd5"
      },
      "source": [
        "### counting을 위해 count 칼럼 생성"
      ]
    },
    {
      "cell_type": "code",
      "execution_count": null,
      "metadata": {
        "id": "WrLZV_2AJRd5",
        "outputId": "cc439a02-872e-4ab8-d763-957dfcba8cbf"
      },
      "outputs": [
        {
          "name": "stderr",
          "output_type": "stream",
          "text": [
            "c:\\Users\\aryij\\anaconda3\\envs\\cp2\\lib\\site-packages\\pandas\\core\\frame.py:3607: SettingWithCopyWarning: \n",
            "A value is trying to be set on a copy of a slice from a DataFrame.\n",
            "Try using .loc[row_indexer,col_indexer] = value instead\n",
            "\n",
            "See the caveats in the documentation: https://pandas.pydata.org/pandas-docs/stable/user_guide/indexing.html#returning-a-view-versus-a-copy\n",
            "  self._set_item(key, value)\n"
          ]
        }
      ],
      "source": [
        "cart_day.loc[:, \"count\"] = 1"
      ]
    },
    {
      "cell_type": "code",
      "execution_count": null,
      "metadata": {
        "id": "W6rRFwwuJRd5",
        "outputId": "52327c61-b467-408f-aff1-991eaa601300"
      },
      "outputs": [
        {
          "data": {
            "text/html": [
              "<div>\n",
              "<style scoped>\n",
              "    .dataframe tbody tr th:only-of-type {\n",
              "        vertical-align: middle;\n",
              "    }\n",
              "\n",
              "    .dataframe tbody tr th {\n",
              "        vertical-align: top;\n",
              "    }\n",
              "\n",
              "    .dataframe thead th {\n",
              "        text-align: right;\n",
              "    }\n",
              "</style>\n",
              "<table border=\"1\" class=\"dataframe\">\n",
              "  <thead>\n",
              "    <tr style=\"text-align: right;\">\n",
              "      <th></th>\n",
              "      <th>product_id</th>\n",
              "      <th>user_id</th>\n",
              "      <th>count</th>\n",
              "    </tr>\n",
              "  </thead>\n",
              "  <tbody>\n",
              "    <tr>\n",
              "      <th>3515590</th>\n",
              "      <td>1005136</td>\n",
              "      <td>512433763</td>\n",
              "      <td>1</td>\n",
              "    </tr>\n",
              "    <tr>\n",
              "      <th>3515915</th>\n",
              "      <td>1003310</td>\n",
              "      <td>556510717</td>\n",
              "      <td>1</td>\n",
              "    </tr>\n",
              "    <tr>\n",
              "      <th>3516066</th>\n",
              "      <td>1005141</td>\n",
              "      <td>514302701</td>\n",
              "      <td>1</td>\n",
              "    </tr>\n",
              "  </tbody>\n",
              "</table>\n",
              "</div>"
            ],
            "text/plain": [
              "         product_id    user_id  count\n",
              "3515590     1005136  512433763      1\n",
              "3515915     1003310  556510717      1\n",
              "3516066     1005141  514302701      1"
            ]
          },
          "execution_count": 11,
          "metadata": {},
          "output_type": "execute_result"
        }
      ],
      "source": [
        "cart_day.head(3)"
      ]
    },
    {
      "cell_type": "code",
      "execution_count": null,
      "metadata": {
        "id": "YkbJORySJRd6",
        "outputId": "718a75a7-efba-4e8d-b6d2-e936d0c971a6"
      },
      "outputs": [
        {
          "data": {
            "text/plain": [
              "(296936, 3)"
            ]
          },
          "execution_count": 12,
          "metadata": {},
          "output_type": "execute_result"
        }
      ],
      "source": [
        "cart_day.shape"
      ]
    },
    {
      "cell_type": "markdown",
      "metadata": {
        "id": "9HzOBx_sJRd6"
      },
      "source": [
        "### product_id에 따른 설명 테이블 item_lookup 생성"
      ]
    },
    {
      "cell_type": "code",
      "execution_count": null,
      "metadata": {
        "id": "rBIxPIMQJRd6",
        "outputId": "27593877-b9c1-4a8d-b48b-9ed0aa4d3f04"
      },
      "outputs": [
        {
          "data": {
            "text/html": [
              "<div>\n",
              "<style scoped>\n",
              "    .dataframe tbody tr th:only-of-type {\n",
              "        vertical-align: middle;\n",
              "    }\n",
              "\n",
              "    .dataframe tbody tr th {\n",
              "        vertical-align: top;\n",
              "    }\n",
              "\n",
              "    .dataframe thead th {\n",
              "        text-align: right;\n",
              "    }\n",
              "</style>\n",
              "<table border=\"1\" class=\"dataframe\">\n",
              "  <thead>\n",
              "    <tr style=\"text-align: right;\">\n",
              "      <th></th>\n",
              "      <th>product_id</th>\n",
              "      <th>main_cat</th>\n",
              "      <th>sub_cat_1</th>\n",
              "      <th>sub_cat_2</th>\n",
              "      <th>brand</th>\n",
              "    </tr>\n",
              "  </thead>\n",
              "  <tbody>\n",
              "    <tr>\n",
              "      <th>3515590</th>\n",
              "      <td>1005136</td>\n",
              "      <td>electronics</td>\n",
              "      <td>smartphone</td>\n",
              "      <td>None</td>\n",
              "      <td>apple</td>\n",
              "    </tr>\n",
              "    <tr>\n",
              "      <th>3515915</th>\n",
              "      <td>1003310</td>\n",
              "      <td>electronics</td>\n",
              "      <td>smartphone</td>\n",
              "      <td>None</td>\n",
              "      <td>apple</td>\n",
              "    </tr>\n",
              "    <tr>\n",
              "      <th>3516066</th>\n",
              "      <td>1005141</td>\n",
              "      <td>electronics</td>\n",
              "      <td>smartphone</td>\n",
              "      <td>None</td>\n",
              "      <td>apple</td>\n",
              "    </tr>\n",
              "    <tr>\n",
              "      <th>3516110</th>\n",
              "      <td>1004945</td>\n",
              "      <td>electronics</td>\n",
              "      <td>smartphone</td>\n",
              "      <td>None</td>\n",
              "      <td>samsung</td>\n",
              "    </tr>\n",
              "    <tr>\n",
              "      <th>3516183</th>\n",
              "      <td>1005118</td>\n",
              "      <td>electronics</td>\n",
              "      <td>smartphone</td>\n",
              "      <td>None</td>\n",
              "      <td>apple</td>\n",
              "    </tr>\n",
              "  </tbody>\n",
              "</table>\n",
              "</div>"
            ],
            "text/plain": [
              "         product_id     main_cat   sub_cat_1 sub_cat_2    brand\n",
              "3515590     1005136  electronics  smartphone      None    apple\n",
              "3515915     1003310  electronics  smartphone      None    apple\n",
              "3516066     1005141  electronics  smartphone      None    apple\n",
              "3516110     1004945  electronics  smartphone      None  samsung\n",
              "3516183     1005118  electronics  smartphone      None    apple"
            ]
          },
          "execution_count": 13,
          "metadata": {},
          "output_type": "execute_result"
        }
      ],
      "source": [
        "item_lookup = df_day[['product_id','main_cat', \"sub_cat_1\", \"sub_cat_2\", \"brand\"]].drop_duplicates()\n",
        "item_lookup.head()"
      ]
    },
    {
      "cell_type": "markdown",
      "metadata": {
        "id": "wdPfW54yJRd7"
      },
      "source": [
        "### Train / Test dataset 생성"
      ]
    },
    {
      "cell_type": "code",
      "execution_count": null,
      "metadata": {
        "id": "IEUiMm8xJRd7",
        "outputId": "962919bf-58a0-4015-abf9-8ccd4c432d51"
      },
      "outputs": [
        {
          "name": "stderr",
          "output_type": "stream",
          "text": [
            "c:\\Users\\aryij\\anaconda3\\envs\\cp2\\lib\\site-packages\\pandas\\core\\frame.py:3607: SettingWithCopyWarning: \n",
            "A value is trying to be set on a copy of a slice from a DataFrame.\n",
            "Try using .loc[row_indexer,col_indexer] = value instead\n",
            "\n",
            "See the caveats in the documentation: https://pandas.pydata.org/pandas-docs/stable/user_guide/indexing.html#returning-a-view-versus-a-copy\n",
            "  self._set_item(key, value)\n"
          ]
        }
      ],
      "source": [
        "# test_set 비율 0.3\n",
        "valid_pct = 0.3\n",
        "\n",
        "np.random.seed(42)\n",
        "cart_day[\"random\"] = np.random.random(size=len(cart_day))\n",
        "\n",
        "train_mask = cart_day[\"random\"] < (1-valid_pct)\n",
        "valid_mask = cart_day[\"random\"] >= (1-valid_pct)\n",
        "\n",
        "# 고객과 아이템 별로 총 얼마나 구매했는지 \n",
        "grouped_cart_train = cart_day[train_mask].groupby([\"user_id\", \"product_id\"]).size().to_frame(\"count\").reset_index()\n",
        "grouped_cart_valid = cart_day[valid_mask].groupby([\"user_id\", \"product_id\"]).size().to_frame(\"count\").reset_index()"
      ]
    },
    {
      "cell_type": "code",
      "execution_count": null,
      "metadata": {
        "id": "Q5UCKXr9JRd7"
      },
      "outputs": [],
      "source": [
        "sample_weight_train = np.log2(grouped_cart_train['count'] + 1)\n",
        "sample_weight_valid = np.log2(grouped_cart_valid['count'] + 1)\n",
        "\n",
        "grouped_cart_train = grouped_cart_train[['user_id', 'product_id']]\n",
        "grouped_cart_valid = grouped_cart_valid[['user_id', 'product_id']]\n",
        "\n",
        "train_users = np.sort(grouped_cart_train.user_id.unique())\n",
        "valid_users = np.sort(grouped_cart_valid.user_id.unique())\n",
        "cold_start_users = set(valid_users) - set(train_users)\n",
        "\n",
        "train_items = np.sort(grouped_cart_train.product_id.unique())\n",
        "valid_items = np.sort(grouped_cart_valid.product_id.unique())\n",
        "cold_start_items = set(valid_items) - set(train_items)\n",
        "\n",
        "# item_lookup 테이블도 train, valid set에 맞게 나눠준다\n",
        "item_lookup_train = item_lookup[item_lookup.product_id.isin(train_items)]\n",
        "item_lookup_valid = item_lookup[item_lookup.product_id.isin(valid_items)]"
      ]
    },
    {
      "cell_type": "markdown",
      "metadata": {
        "id": "RjBPEFg6JRd8"
      },
      "source": [
        "### ALS 알고리즘의 입력값 형태 만들기 위해, 희소 행렬 생성\n",
        "- 희소 행렬\n",
        "    - row : 유니크한 user_id\n",
        "    - column : 유니크한 product_id\n",
        "    - 행렬의 값은 유저가 각 제품 구매한 횟수"
      ]
    },
    {
      "cell_type": "code",
      "execution_count": null,
      "metadata": {
        "id": "QsS81m6SJRd8"
      },
      "outputs": [],
      "source": [
        "# create zero-based index position <-> user/item ID mappings\n",
        "index_to_user = pd.Series(np.sort(np.unique(grouped_cart_train['user_id'])))\n",
        "index_to_item = pd.Series(np.sort(np.unique(grouped_cart_train['product_id'])))\n",
        "\n",
        "# create reverse mappings from user/item ID to index positions\n",
        "user_to_index = pd.Series(data=index_to_user.index, index=index_to_user.values)\n",
        "item_to_index = pd.Series(data=index_to_item.index, index=index_to_item.values)\n",
        "\n",
        "# convert user/item identifiers to index positions\n",
        "grouped_cart_train_imp = grouped_cart_train.copy()\n",
        "grouped_cart_train_imp['user_id'] = grouped_cart_train['user_id'].map(user_to_index)\n",
        "grouped_cart_train_imp['product_id'] = grouped_cart_train['product_id'].map(item_to_index)"
      ]
    },
    {
      "cell_type": "code",
      "execution_count": null,
      "metadata": {
        "id": "uf22Ltw4JRd8"
      },
      "outputs": [],
      "source": [
        "# prepare the data for CSR creation\n",
        "data = sample_weight_train\n",
        "rows = grouped_cart_train_imp['user_id']\n",
        "cols = grouped_cart_train_imp['product_id']"
      ]
    },
    {
      "cell_type": "code",
      "execution_count": null,
      "metadata": {
        "id": "4FIaKpJGJRd9"
      },
      "outputs": [],
      "source": [
        "# matrix가 매우 크기 때문에 Sparse matrix로 바꾸어주어서\n",
        "# zero가 아닌 값들의 위치와 그 값만 저장하도록 메모리 절약!\n",
        "\n",
        "# create the required user-item and item-user CSR matrices\n",
        "items_user_imp = csr_matrix((data, (cols, rows)), shape=(len(train_items), len(train_users)))\n",
        "user_items_imp = items_user_imp.T.tocsr()"
      ]
    },
    {
      "cell_type": "markdown",
      "metadata": {
        "id": "EGTE3fWAJRd9"
      },
      "source": [
        "## 모델링"
      ]
    },
    {
      "cell_type": "markdown",
      "metadata": {
        "id": "Np4m1G4UJRd9"
      },
      "source": [
        "#### Random Model (Base line)"
      ]
    },
    {
      "cell_type": "code",
      "execution_count": null,
      "metadata": {
        "id": "mnEBVxTxJRd9"
      },
      "outputs": [],
      "source": [
        "class RandomModel():\n",
        "    def __init__(self):\n",
        "        self.products = None\n",
        "    \n",
        "    def train(self, products):\n",
        "        self.products = np.asarray(products)\n",
        "        return self\n",
        "\n",
        "    def recommend(self, size=(1,10)):\n",
        "        return np.random.choice(self.products, size=size, replace=False)"
      ]
    },
    {
      "cell_type": "code",
      "execution_count": null,
      "metadata": {
        "id": "uhQPHr9dJRd9"
      },
      "outputs": [],
      "source": [
        "random_model = RandomModel().train(item_lookup_train.index.tolist())"
      ]
    },
    {
      "cell_type": "code",
      "execution_count": null,
      "metadata": {
        "id": "Ka__kS2PJRd9"
      },
      "outputs": [],
      "source": []
    },
    {
      "cell_type": "code",
      "execution_count": null,
      "metadata": {
        "id": "zHXCISleJRd9",
        "outputId": "2d2b9ebd-43bf-49f2-f14e-a5a77d7069b7"
      },
      "outputs": [
        {
          "data": {
            "text/plain": [
              "1004856     9083\n",
              "1004767     6859\n",
              "1004833     3774\n",
              "1004870     3607\n",
              "1005115     3071\n",
              "            ... \n",
              "18001506       1\n",
              "3300403        1\n",
              "4502129        1\n",
              "1306590        1\n",
              "3601621        1\n",
              "Name: product_id, Length: 2982, dtype: int64"
            ]
          },
          "execution_count": 141,
          "metadata": {},
          "output_type": "execute_result"
        }
      ],
      "source": [
        "grouped_cart_train[\"product_id\"].value_counts()"
      ]
    },
    {
      "cell_type": "code",
      "execution_count": null,
      "metadata": {
        "id": "gTPPx0JLJRd-"
      },
      "outputs": [],
      "source": [
        "baseline = grouped_cart_train.copy()"
      ]
    },
    {
      "cell_type": "code",
      "execution_count": null,
      "metadata": {
        "id": "d8oyJ6NsJRd-"
      },
      "outputs": [],
      "source": [
        "freq = grouped_cart_train[\"product_id\"].mode()[0]"
      ]
    },
    {
      "cell_type": "code",
      "execution_count": null,
      "metadata": {
        "id": "8tF-DjakJRd-"
      },
      "outputs": [],
      "source": [
        "baseline = [freq] * len(grouped_cart_train)"
      ]
    },
    {
      "cell_type": "code",
      "execution_count": null,
      "metadata": {
        "id": "5ZdbDTMdJRd-",
        "outputId": "bd283644-f277-408d-cd88-ea25500b9bb0"
      },
      "outputs": [
        {
          "name": "stdout",
          "output_type": "stream",
          "text": [
            "training accuracy:  0.06891920602160981\n"
          ]
        }
      ],
      "source": [
        "# 최다 product_id의 빈도를 정확도 baseline으로 선정\n",
        "from sklearn.metrics import accuracy_score\n",
        "print(\"training accuracy: \", accuracy_score(grouped_cart_train[\"product_id\"], baseline))"
      ]
    },
    {
      "cell_type": "code",
      "execution_count": null,
      "metadata": {
        "id": "dGVh4Qo1JRd-"
      },
      "outputs": [],
      "source": []
    },
    {
      "cell_type": "code",
      "execution_count": null,
      "metadata": {
        "id": "ih4ARM0xJRd-"
      },
      "outputs": [],
      "source": []
    },
    {
      "cell_type": "markdown",
      "metadata": {
        "id": "f_SVHWTKJRd-"
      },
      "source": [
        "### Alternating Least Squares (ALS) model"
      ]
    },
    {
      "cell_type": "markdown",
      "metadata": {
        "id": "gi_jfIbmJRd_"
      },
      "source": [
        "#### ALS 특징\n",
        "- Implicit 데이터는 구체적인 점수가 아니므로 사용자가 아이템에 관심있는지 여부(Preference)를 Binary로 표현하여 사용\n",
        "    - 주목할점은 인터랙션이 한번도 없는 경우 Preference값이 음수가 아니라 0이라는 것\n",
        "    \n",
        "- 사용자가 아이템을 얼마나 선호하는지를 나타낸 Confidence 값을 정의\n",
        "    - 여기서 α는 인터랙션이 있는 경우 r의 중요도를 조절하는 하이퍼파라미터이다. \n",
        "    - r의 값이 높아질수록 Confidence 값이 증가하게 만든다(Increasing Function). \n",
        "    - 인터랙션이 없다고 해서 선호하지 않는 것이 아니므로 이런 경우에는 낮은 Confidence 값을 가진다. \n",
        "    - 여기서 r은 이미 알고 있는 값이고, α는 사용자 설정값이므로 Confidence는 상수가 된다. \n",
        "        - 즉, 학습대상이 아니다."
      ]
    },
    {
      "cell_type": "code",
      "execution_count": null,
      "metadata": {
        "id": "tvql5j7SJRd_"
      },
      "outputs": [],
      "source": [
        "# confidence value tuning\n",
        "\n",
        "# In most casing the solutions should be pretty similar after calling fit. It might be worth trying to tune the confidence values passed as an input, potentially by multiplying the confidence weights by a constant (alpha) before calling fit.\n",
        "\n",
        "# You should probably by determining the best value of alpha via cross validation - but a useful heuristic to get started is it to set the alpha param such that the positive examples and negative examples have equal weight:\n",
        "\n",
        "# since all the zeros in the matrix (negative examples) get a default confidence of 1\n",
        "# https://github.com/benfred/implicit/issues/96\n",
        "\n",
        "# fit 하기 전, confidence 값 (alpha) 을 조정한다 \n",
        "# -> negative example 들을 1로 맞춰준다\n",
        "\n",
        "Riu = user_items_imp\n",
        "# nnz : 저장된 값들의 수\n",
        "alpha = (Riu.shape[0] * Riu.shape[1] - Riu.nnz) / sum(Riu.data)"
      ]
    },
    {
      "cell_type": "code",
      "execution_count": null,
      "metadata": {
        "id": "tBrywpWPJRd_",
        "outputId": "6222197e-c96f-48ad-c44f-4f1b6009d419"
      },
      "outputs": [
        {
          "name": "stderr",
          "output_type": "stream",
          "text": [
            "100%|██████████| 20/20 [00:49<00:00,  2.47s/it, loss=0.0073] \n"
          ]
        }
      ],
      "source": [
        "from implicit.als import AlternatingLeastSquares\n",
        "\n",
        "# initialize and fit the model\n",
        "imp_model = AlternatingLeastSquares(factors=64, \n",
        "                                    random_state=42,\n",
        "                                    regularization=0.05,\n",
        "                                    iterations=20, \n",
        "                                    calculate_training_loss=True)\n",
        "imp_model.fit(alpha * user_items_imp)"
      ]
    },
    {
      "cell_type": "markdown",
      "metadata": {
        "id": "CBAOd2X4JRd_"
      },
      "source": [
        "## Evaluation"
      ]
    },
    {
      "cell_type": "markdown",
      "metadata": {
        "id": "0tUivWIgJRd_"
      },
      "source": [
        "#### Random Model"
      ]
    },
    {
      "cell_type": "code",
      "execution_count": null,
      "metadata": {
        "id": "1hb9AjUVJRd_",
        "outputId": "74d3e916-120a-4ab4-a464-f605db04641e"
      },
      "outputs": [
        {
          "data": {
            "text/html": [
              "<div>\n",
              "<style scoped>\n",
              "    .dataframe tbody tr th:only-of-type {\n",
              "        vertical-align: middle;\n",
              "    }\n",
              "\n",
              "    .dataframe tbody tr th {\n",
              "        vertical-align: top;\n",
              "    }\n",
              "\n",
              "    .dataframe thead th {\n",
              "        text-align: right;\n",
              "    }\n",
              "</style>\n",
              "<table border=\"1\" class=\"dataframe\">\n",
              "  <thead>\n",
              "    <tr style=\"text-align: right;\">\n",
              "      <th></th>\n",
              "      <th>product_id</th>\n",
              "      <th>main_cat</th>\n",
              "      <th>sub_cat_1</th>\n",
              "      <th>sub_cat_2</th>\n",
              "      <th>brand</th>\n",
              "    </tr>\n",
              "  </thead>\n",
              "  <tbody>\n",
              "    <tr>\n",
              "      <th>17318509</th>\n",
              "      <td>1801963</td>\n",
              "      <td>electronics</td>\n",
              "      <td>video</td>\n",
              "      <td>tv</td>\n",
              "      <td>philips</td>\n",
              "    </tr>\n",
              "    <tr>\n",
              "      <th>33408480</th>\n",
              "      <td>3100907</td>\n",
              "      <td>appliances</td>\n",
              "      <td>kitchen</td>\n",
              "      <td>blender</td>\n",
              "      <td>elenberg</td>\n",
              "    </tr>\n",
              "    <tr>\n",
              "      <th>3664517</th>\n",
              "      <td>10900003</td>\n",
              "      <td>appliances</td>\n",
              "      <td>kitchen</td>\n",
              "      <td>mixer</td>\n",
              "      <td>polaris</td>\n",
              "    </tr>\n",
              "    <tr>\n",
              "      <th>17271323</th>\n",
              "      <td>2701423</td>\n",
              "      <td>appliances</td>\n",
              "      <td>kitchen</td>\n",
              "      <td>refrigerators</td>\n",
              "      <td>haier</td>\n",
              "    </tr>\n",
              "    <tr>\n",
              "      <th>23382581</th>\n",
              "      <td>4900181</td>\n",
              "      <td>appliances</td>\n",
              "      <td>kitchen</td>\n",
              "      <td>juicer</td>\n",
              "      <td>elenberg</td>\n",
              "    </tr>\n",
              "    <tr>\n",
              "      <th>3556959</th>\n",
              "      <td>1801766</td>\n",
              "      <td>electronics</td>\n",
              "      <td>video</td>\n",
              "      <td>tv</td>\n",
              "      <td>artel</td>\n",
              "    </tr>\n",
              "    <tr>\n",
              "      <th>25320650</th>\n",
              "      <td>7900976</td>\n",
              "      <td>furniture</td>\n",
              "      <td>kitchen</td>\n",
              "      <td>chair</td>\n",
              "      <td>lorelli-bertoni</td>\n",
              "    </tr>\n",
              "    <tr>\n",
              "      <th>5317573</th>\n",
              "      <td>1306761</td>\n",
              "      <td>computers</td>\n",
              "      <td>notebook</td>\n",
              "      <td>None</td>\n",
              "      <td>hp</td>\n",
              "    </tr>\n",
              "    <tr>\n",
              "      <th>26890226</th>\n",
              "      <td>1801565</td>\n",
              "      <td>electronics</td>\n",
              "      <td>video</td>\n",
              "      <td>tv</td>\n",
              "      <td>sony</td>\n",
              "    </tr>\n",
              "    <tr>\n",
              "      <th>3569821</th>\n",
              "      <td>18000656</td>\n",
              "      <td>electronics</td>\n",
              "      <td>smartphone</td>\n",
              "      <td>phone_accessories</td>\n",
              "      <td>samsung</td>\n",
              "    </tr>\n",
              "  </tbody>\n",
              "</table>\n",
              "</div>"
            ],
            "text/plain": [
              "          product_id     main_cat   sub_cat_1          sub_cat_2  \\\n",
              "17318509     1801963  electronics       video                 tv   \n",
              "33408480     3100907   appliances     kitchen            blender   \n",
              "3664517     10900003   appliances     kitchen              mixer   \n",
              "17271323     2701423   appliances     kitchen      refrigerators   \n",
              "23382581     4900181   appliances     kitchen             juicer   \n",
              "3556959      1801766  electronics       video                 tv   \n",
              "25320650     7900976    furniture     kitchen              chair   \n",
              "5317573      1306761    computers    notebook               None   \n",
              "26890226     1801565  electronics       video                 tv   \n",
              "3569821     18000656  electronics  smartphone  phone_accessories   \n",
              "\n",
              "                    brand  \n",
              "17318509          philips  \n",
              "33408480         elenberg  \n",
              "3664517           polaris  \n",
              "17271323            haier  \n",
              "23382581         elenberg  \n",
              "3556959             artel  \n",
              "25320650  lorelli-bertoni  \n",
              "5317573                hp  \n",
              "26890226             sony  \n",
              "3569821           samsung  "
            ]
          },
          "execution_count": 116,
          "metadata": {},
          "output_type": "execute_result"
        }
      ],
      "source": [
        "random_rec = random_model.recommend()\n",
        "\n",
        "item_lookup.loc[random_rec[0].tolist(), :]"
      ]
    },
    {
      "cell_type": "markdown",
      "metadata": {
        "id": "KoJgb37VJRd_"
      },
      "source": [
        "#### ALS Model"
      ]
    },
    {
      "cell_type": "markdown",
      "metadata": {
        "id": "v123uUkDJReA"
      },
      "source": [
        "##### Hit_rate, Precision, Recall"
      ]
    },
    {
      "cell_type": "code",
      "execution_count": null,
      "metadata": {
        "id": "ntRjWuF2JReA"
      },
      "outputs": [],
      "source": [
        "# generate recommendations for all users and map back to original user/item ID values\n",
        "recs_imp = imp_model.recommend_all(user_items=user_items_imp, N=10, filter_already_liked_items=False)\n",
        "recs_imp = pd.DataFrame(recs_imp, index=index_to_user.values).apply(lambda c: c.map(index_to_item))\n",
        "\n",
        "valid_user_items = grouped_cart_valid.groupby('user_id')['product_id'].apply(set).to_dict()\n",
        "combined_users = set(train_users) & set(valid_users)"
      ]
    },
    {
      "cell_type": "code",
      "execution_count": null,
      "metadata": {
        "id": "wdhOn_4RJReA"
      },
      "outputs": [],
      "source": [
        "# hit_rate, precision, recall 측정\n",
        "imp_hrt = np.mean([int(len(set(recs_imp.loc[u]) & valid_user_items[u]) > 0) for u in combined_users])\n",
        "imp_pre = np.mean([len(set(recs_imp.loc[u]) & valid_user_items[u]) / len(recs_imp.loc[u]) for u in combined_users])\n",
        "imp_rec = np.mean([len(set(recs_imp.loc[u]) & valid_user_items[u]) / len(valid_user_items[u]) for u in combined_users])"
      ]
    },
    {
      "cell_type": "code",
      "execution_count": null,
      "metadata": {
        "id": "YA3dJr3iJReA",
        "outputId": "18d4f60c-2472-4158-abef-fb03fe39df18"
      },
      "outputs": [
        {
          "name": "stdout",
          "output_type": "stream",
          "text": [
            "Hit Rate : 0.87\n",
            "Precision : 0.1\n",
            "Recall : 0.83\n"
          ]
        }
      ],
      "source": [
        "print(\"Hit Rate :\", round(imp_hrt, 2))\n",
        "print(\"Precision :\", round(imp_pre, 2))\n",
        "print(\"Recall :\", round(imp_rec, 2))"
      ]
    },
    {
      "cell_type": "markdown",
      "metadata": {
        "id": "x4UEsbnwJReA"
      },
      "source": [
        "##### 해당 user_id가 실제 cart에 가장 많이 넣은 제품들"
      ]
    },
    {
      "cell_type": "code",
      "execution_count": null,
      "metadata": {
        "id": "Qbpq7mQBJReA",
        "outputId": "b3f6d17a-fb00-40a2-8bfc-6f02c1d741b1"
      },
      "outputs": [
        {
          "data": {
            "text/html": [
              "<div>\n",
              "<style scoped>\n",
              "    .dataframe tbody tr th:only-of-type {\n",
              "        vertical-align: middle;\n",
              "    }\n",
              "\n",
              "    .dataframe tbody tr th {\n",
              "        vertical-align: top;\n",
              "    }\n",
              "\n",
              "    .dataframe thead th {\n",
              "        text-align: right;\n",
              "    }\n",
              "</style>\n",
              "<table border=\"1\" class=\"dataframe\">\n",
              "  <thead>\n",
              "    <tr style=\"text-align: right;\">\n",
              "      <th></th>\n",
              "      <th>product_id</th>\n",
              "      <th>main_cat</th>\n",
              "      <th>sub_cat_1</th>\n",
              "      <th>sub_cat_2</th>\n",
              "      <th>brand</th>\n",
              "      <th>counts</th>\n",
              "    </tr>\n",
              "  </thead>\n",
              "  <tbody>\n",
              "    <tr>\n",
              "      <th>0</th>\n",
              "      <td>1802037</td>\n",
              "      <td>electronics</td>\n",
              "      <td>video</td>\n",
              "      <td>tv</td>\n",
              "      <td>lg</td>\n",
              "      <td>6</td>\n",
              "    </tr>\n",
              "    <tr>\n",
              "      <th>1</th>\n",
              "      <td>1005100</td>\n",
              "      <td>electronics</td>\n",
              "      <td>smartphone</td>\n",
              "      <td>None</td>\n",
              "      <td>samsung</td>\n",
              "      <td>4</td>\n",
              "    </tr>\n",
              "    <tr>\n",
              "      <th>2</th>\n",
              "      <td>1004809</td>\n",
              "      <td>electronics</td>\n",
              "      <td>smartphone</td>\n",
              "      <td>None</td>\n",
              "      <td>xiaomi</td>\n",
              "      <td>3</td>\n",
              "    </tr>\n",
              "    <tr>\n",
              "      <th>3</th>\n",
              "      <td>1004777</td>\n",
              "      <td>electronics</td>\n",
              "      <td>smartphone</td>\n",
              "      <td>None</td>\n",
              "      <td>xiaomi</td>\n",
              "      <td>3</td>\n",
              "    </tr>\n",
              "    <tr>\n",
              "      <th>4</th>\n",
              "      <td>1005204</td>\n",
              "      <td>electronics</td>\n",
              "      <td>smartphone</td>\n",
              "      <td>None</td>\n",
              "      <td>xiaomi</td>\n",
              "      <td>3</td>\n",
              "    </tr>\n",
              "    <tr>\n",
              "      <th>5</th>\n",
              "      <td>1004838</td>\n",
              "      <td>electronics</td>\n",
              "      <td>smartphone</td>\n",
              "      <td>None</td>\n",
              "      <td>oppo</td>\n",
              "      <td>2</td>\n",
              "    </tr>\n",
              "    <tr>\n",
              "      <th>6</th>\n",
              "      <td>1801998</td>\n",
              "      <td>electronics</td>\n",
              "      <td>video</td>\n",
              "      <td>tv</td>\n",
              "      <td>artel</td>\n",
              "      <td>1</td>\n",
              "    </tr>\n",
              "    <tr>\n",
              "      <th>7</th>\n",
              "      <td>1005006</td>\n",
              "      <td>electronics</td>\n",
              "      <td>smartphone</td>\n",
              "      <td>None</td>\n",
              "      <td>xiaomi</td>\n",
              "      <td>1</td>\n",
              "    </tr>\n",
              "    <tr>\n",
              "      <th>8</th>\n",
              "      <td>1801770</td>\n",
              "      <td>electronics</td>\n",
              "      <td>video</td>\n",
              "      <td>tv</td>\n",
              "      <td>changhong</td>\n",
              "      <td>1</td>\n",
              "    </tr>\n",
              "    <tr>\n",
              "      <th>9</th>\n",
              "      <td>1005195</td>\n",
              "      <td>electronics</td>\n",
              "      <td>smartphone</td>\n",
              "      <td>None</td>\n",
              "      <td>xiaomi</td>\n",
              "      <td>1</td>\n",
              "    </tr>\n",
              "  </tbody>\n",
              "</table>\n",
              "</div>"
            ],
            "text/plain": [
              "   product_id     main_cat   sub_cat_1 sub_cat_2      brand  counts\n",
              "0     1802037  electronics       video        tv         lg       6\n",
              "1     1005100  electronics  smartphone      None    samsung       4\n",
              "2     1004809  electronics  smartphone      None     xiaomi       3\n",
              "3     1004777  electronics  smartphone      None     xiaomi       3\n",
              "4     1005204  electronics  smartphone      None     xiaomi       3\n",
              "5     1004838  electronics  smartphone      None       oppo       2\n",
              "6     1801998  electronics       video        tv      artel       1\n",
              "7     1005006  electronics  smartphone      None     xiaomi       1\n",
              "8     1801770  electronics       video        tv  changhong       1\n",
              "9     1005195  electronics  smartphone      None     xiaomi       1"
            ]
          },
          "execution_count": 81,
          "metadata": {},
          "output_type": "execute_result"
        }
      ],
      "source": [
        "user_id = 539016593\n",
        "\n",
        "user_prod_freq = (\n",
        "    cart_day\n",
        "    .loc[cart_day[\"user_id\"] == user_id, \"product_id\"]\n",
        "    .value_counts()\n",
        "    .iloc[:10]\n",
        ")\n",
        "freq_item = item_lookup.set_index(\"product_id\").loc[user_prod_freq.index.to_list(), :]\n",
        "freq_item.loc[:, \"counts\"] = user_prod_freq.to_list()\n",
        "freq_item.reset_index()"
      ]
    },
    {
      "cell_type": "markdown",
      "metadata": {
        "id": "wfS6s6xEJReA"
      },
      "source": [
        "##### 추천 시스템"
      ]
    },
    {
      "cell_type": "code",
      "execution_count": null,
      "metadata": {
        "id": "MHgmVF0cJReB",
        "outputId": "e753f10f-ced4-4186-a027-499a711a0ffb"
      },
      "outputs": [
        {
          "data": {
            "text/plain": [
              "69849"
            ]
          },
          "execution_count": 82,
          "metadata": {},
          "output_type": "execute_result"
        }
      ],
      "source": [
        "user_idx = list(grouped_cart_train['user_id']).index(user_id)\n",
        "user_idx"
      ]
    },
    {
      "cell_type": "code",
      "execution_count": null,
      "metadata": {
        "id": "IagiF_qEJReB"
      },
      "outputs": [],
      "source": [
        "ids, scores = imp_model.recommend(user_idx, user_items_imp[user_idx], filter_already_liked_items=False)"
      ]
    },
    {
      "cell_type": "code",
      "execution_count": null,
      "metadata": {
        "id": "pJcPl4aKJReB",
        "outputId": "2cdb01f9-2c1f-47a7-93e5-5a3d98943bf9"
      },
      "outputs": [
        {
          "data": {
            "text/plain": [
              "array([237, 290, 281, 269, 238, 266, 293, 386, 229, 236])"
            ]
          },
          "execution_count": 84,
          "metadata": {},
          "output_type": "execute_result"
        }
      ],
      "source": [
        "ids"
      ]
    },
    {
      "cell_type": "code",
      "execution_count": null,
      "metadata": {
        "id": "L1tFY_IWJReB",
        "outputId": "697617ff-6177-4513-e6d8-4b118f75981b"
      },
      "outputs": [
        {
          "data": {
            "text/html": [
              "<div>\n",
              "<style scoped>\n",
              "    .dataframe tbody tr th:only-of-type {\n",
              "        vertical-align: middle;\n",
              "    }\n",
              "\n",
              "    .dataframe tbody tr th {\n",
              "        vertical-align: top;\n",
              "    }\n",
              "\n",
              "    .dataframe thead th {\n",
              "        text-align: right;\n",
              "    }\n",
              "</style>\n",
              "<table border=\"1\" class=\"dataframe\">\n",
              "  <thead>\n",
              "    <tr style=\"text-align: right;\">\n",
              "      <th></th>\n",
              "      <th>product_id</th>\n",
              "      <th>score</th>\n",
              "      <th>already_carted</th>\n",
              "    </tr>\n",
              "  </thead>\n",
              "  <tbody>\n",
              "    <tr>\n",
              "      <th>237</th>\n",
              "      <td>1801690</td>\n",
              "      <td>0.997957</td>\n",
              "      <td>True</td>\n",
              "    </tr>\n",
              "    <tr>\n",
              "      <th>290</th>\n",
              "      <td>1004665</td>\n",
              "      <td>0.329938</td>\n",
              "      <td>False</td>\n",
              "    </tr>\n",
              "    <tr>\n",
              "      <th>281</th>\n",
              "      <td>1004750</td>\n",
              "      <td>0.250027</td>\n",
              "      <td>False</td>\n",
              "    </tr>\n",
              "    <tr>\n",
              "      <th>269</th>\n",
              "      <td>3601535</td>\n",
              "      <td>0.246099</td>\n",
              "      <td>False</td>\n",
              "    </tr>\n",
              "    <tr>\n",
              "      <th>238</th>\n",
              "      <td>1801904</td>\n",
              "      <td>0.232005</td>\n",
              "      <td>False</td>\n",
              "    </tr>\n",
              "    <tr>\n",
              "      <th>266</th>\n",
              "      <td>1004038</td>\n",
              "      <td>0.230789</td>\n",
              "      <td>False</td>\n",
              "    </tr>\n",
              "    <tr>\n",
              "      <th>293</th>\n",
              "      <td>1004229</td>\n",
              "      <td>0.219613</td>\n",
              "      <td>False</td>\n",
              "    </tr>\n",
              "    <tr>\n",
              "      <th>386</th>\n",
              "      <td>1004709</td>\n",
              "      <td>0.211708</td>\n",
              "      <td>False</td>\n",
              "    </tr>\n",
              "    <tr>\n",
              "      <th>229</th>\n",
              "      <td>1307236</td>\n",
              "      <td>0.194492</td>\n",
              "      <td>False</td>\n",
              "    </tr>\n",
              "    <tr>\n",
              "      <th>236</th>\n",
              "      <td>1005180</td>\n",
              "      <td>0.182106</td>\n",
              "      <td>False</td>\n",
              "    </tr>\n",
              "  </tbody>\n",
              "</table>\n",
              "</div>"
            ],
            "text/plain": [
              "     product_id     score  already_carted\n",
              "237     1801690  0.997957            True\n",
              "290     1004665  0.329938           False\n",
              "281     1004750  0.250027           False\n",
              "269     3601535  0.246099           False\n",
              "238     1801904  0.232005           False\n",
              "266     1004038  0.230789           False\n",
              "293     1004229  0.219613           False\n",
              "386     1004709  0.211708           False\n",
              "229     1307236  0.194492           False\n",
              "236     1005180  0.182106           False"
            ]
          },
          "execution_count": 85,
          "metadata": {},
          "output_type": "execute_result"
        }
      ],
      "source": [
        "als_rec = pd.DataFrame({\"product_id\": grouped_cart_train[\"product_id\"][ids], \n",
        "                        \"score\": scores, \n",
        "                        \"already_carted\": np.in1d(ids, user_items_imp[user_idx].indices)})\n",
        "als_rec.drop_duplicates(\"product_id\")"
      ]
    },
    {
      "cell_type": "code",
      "execution_count": null,
      "metadata": {
        "id": "0J08_dezJReB",
        "outputId": "e2e88a85-b95f-44bb-e0ae-65aa042bd899"
      },
      "outputs": [
        {
          "data": {
            "text/html": [
              "<div>\n",
              "<style scoped>\n",
              "    .dataframe tbody tr th:only-of-type {\n",
              "        vertical-align: middle;\n",
              "    }\n",
              "\n",
              "    .dataframe tbody tr th {\n",
              "        vertical-align: top;\n",
              "    }\n",
              "\n",
              "    .dataframe thead th {\n",
              "        text-align: right;\n",
              "    }\n",
              "</style>\n",
              "<table border=\"1\" class=\"dataframe\">\n",
              "  <thead>\n",
              "    <tr style=\"text-align: right;\">\n",
              "      <th></th>\n",
              "      <th>product_id</th>\n",
              "      <th>main_cat</th>\n",
              "      <th>sub_cat_1</th>\n",
              "      <th>sub_cat_2</th>\n",
              "      <th>brand</th>\n",
              "      <th>score</th>\n",
              "      <th>already_carted</th>\n",
              "    </tr>\n",
              "  </thead>\n",
              "  <tbody>\n",
              "    <tr>\n",
              "      <th>0</th>\n",
              "      <td>1801690</td>\n",
              "      <td>electronics</td>\n",
              "      <td>video</td>\n",
              "      <td>tv</td>\n",
              "      <td>samsung</td>\n",
              "      <td>0.997957</td>\n",
              "      <td>True</td>\n",
              "    </tr>\n",
              "    <tr>\n",
              "      <th>1</th>\n",
              "      <td>1004665</td>\n",
              "      <td>electronics</td>\n",
              "      <td>smartphone</td>\n",
              "      <td>None</td>\n",
              "      <td>samsung</td>\n",
              "      <td>0.329938</td>\n",
              "      <td>False</td>\n",
              "    </tr>\n",
              "    <tr>\n",
              "      <th>2</th>\n",
              "      <td>1004750</td>\n",
              "      <td>electronics</td>\n",
              "      <td>smartphone</td>\n",
              "      <td>None</td>\n",
              "      <td>samsung</td>\n",
              "      <td>0.250027</td>\n",
              "      <td>False</td>\n",
              "    </tr>\n",
              "    <tr>\n",
              "      <th>3</th>\n",
              "      <td>3601535</td>\n",
              "      <td>appliances</td>\n",
              "      <td>kitchen</td>\n",
              "      <td>dishwasher</td>\n",
              "      <td>samsung</td>\n",
              "      <td>0.246099</td>\n",
              "      <td>False</td>\n",
              "    </tr>\n",
              "    <tr>\n",
              "      <th>4</th>\n",
              "      <td>1801904</td>\n",
              "      <td>electronics</td>\n",
              "      <td>video</td>\n",
              "      <td>tv</td>\n",
              "      <td>samsung</td>\n",
              "      <td>0.232005</td>\n",
              "      <td>False</td>\n",
              "    </tr>\n",
              "    <tr>\n",
              "      <th>5</th>\n",
              "      <td>1004038</td>\n",
              "      <td>electronics</td>\n",
              "      <td>smartphone</td>\n",
              "      <td>None</td>\n",
              "      <td>xiaomi</td>\n",
              "      <td>0.230789</td>\n",
              "      <td>False</td>\n",
              "    </tr>\n",
              "    <tr>\n",
              "      <th>6</th>\n",
              "      <td>1004229</td>\n",
              "      <td>electronics</td>\n",
              "      <td>smartphone</td>\n",
              "      <td>None</td>\n",
              "      <td>apple</td>\n",
              "      <td>0.219613</td>\n",
              "      <td>False</td>\n",
              "    </tr>\n",
              "    <tr>\n",
              "      <th>7</th>\n",
              "      <td>1004709</td>\n",
              "      <td>electronics</td>\n",
              "      <td>smartphone</td>\n",
              "      <td>None</td>\n",
              "      <td>huawei</td>\n",
              "      <td>0.211708</td>\n",
              "      <td>False</td>\n",
              "    </tr>\n",
              "    <tr>\n",
              "      <th>8</th>\n",
              "      <td>1307236</td>\n",
              "      <td>computers</td>\n",
              "      <td>notebook</td>\n",
              "      <td>None</td>\n",
              "      <td>lenovo</td>\n",
              "      <td>0.194492</td>\n",
              "      <td>False</td>\n",
              "    </tr>\n",
              "    <tr>\n",
              "      <th>9</th>\n",
              "      <td>1005180</td>\n",
              "      <td>electronics</td>\n",
              "      <td>smartphone</td>\n",
              "      <td>None</td>\n",
              "      <td>no_brand</td>\n",
              "      <td>0.182106</td>\n",
              "      <td>False</td>\n",
              "    </tr>\n",
              "  </tbody>\n",
              "</table>\n",
              "</div>"
            ],
            "text/plain": [
              "   product_id     main_cat   sub_cat_1   sub_cat_2     brand     score  \\\n",
              "0     1801690  electronics       video          tv   samsung  0.997957   \n",
              "1     1004665  electronics  smartphone        None   samsung  0.329938   \n",
              "2     1004750  electronics  smartphone        None   samsung  0.250027   \n",
              "3     3601535   appliances     kitchen  dishwasher   samsung  0.246099   \n",
              "4     1801904  electronics       video          tv   samsung  0.232005   \n",
              "5     1004038  electronics  smartphone        None    xiaomi  0.230789   \n",
              "6     1004229  electronics  smartphone        None     apple  0.219613   \n",
              "7     1004709  electronics  smartphone        None    huawei  0.211708   \n",
              "8     1307236    computers    notebook        None    lenovo  0.194492   \n",
              "9     1005180  electronics  smartphone        None  no_brand  0.182106   \n",
              "\n",
              "   already_carted  \n",
              "0            True  \n",
              "1           False  \n",
              "2           False  \n",
              "3           False  \n",
              "4           False  \n",
              "5           False  \n",
              "6           False  \n",
              "7           False  \n",
              "8           False  \n",
              "9           False  "
            ]
          },
          "execution_count": 86,
          "metadata": {},
          "output_type": "execute_result"
        }
      ],
      "source": [
        "als_item_lookup = item_lookup_train.set_index(\"product_id\").loc[als_rec[\"product_id\"].to_list(), :].reset_index()\n",
        "als_item_lookup.merge(als_rec).drop_duplicates(\"product_id\").reset_index(drop=True)"
      ]
    },
    {
      "cell_type": "markdown",
      "metadata": {
        "id": "9i9zzm1KJReB"
      },
      "source": [
        "##### 비슷한 아이템"
      ]
    },
    {
      "cell_type": "code",
      "execution_count": null,
      "metadata": {
        "id": "j2qtUtP_JReC",
        "outputId": "174c2a6d-52f5-4a1a-9443-be4c635c8ab7"
      },
      "outputs": [
        {
          "data": {
            "text/html": [
              "<div>\n",
              "<style scoped>\n",
              "    .dataframe tbody tr th:only-of-type {\n",
              "        vertical-align: middle;\n",
              "    }\n",
              "\n",
              "    .dataframe tbody tr th {\n",
              "        vertical-align: top;\n",
              "    }\n",
              "\n",
              "    .dataframe thead th {\n",
              "        text-align: right;\n",
              "    }\n",
              "</style>\n",
              "<table border=\"1\" class=\"dataframe\">\n",
              "  <thead>\n",
              "    <tr style=\"text-align: right;\">\n",
              "      <th></th>\n",
              "      <th>product_id</th>\n",
              "      <th>main_cat</th>\n",
              "      <th>sub_cat_1</th>\n",
              "      <th>sub_cat_2</th>\n",
              "      <th>brand</th>\n",
              "      <th>score</th>\n",
              "    </tr>\n",
              "  </thead>\n",
              "  <tbody>\n",
              "    <tr>\n",
              "      <th>0</th>\n",
              "      <td>1801690</td>\n",
              "      <td>electronics</td>\n",
              "      <td>video</td>\n",
              "      <td>tv</td>\n",
              "      <td>samsung</td>\n",
              "      <td>1.000000</td>\n",
              "    </tr>\n",
              "    <tr>\n",
              "      <th>1</th>\n",
              "      <td>1801690</td>\n",
              "      <td>electronics</td>\n",
              "      <td>video</td>\n",
              "      <td>tv</td>\n",
              "      <td>samsung</td>\n",
              "      <td>1.000000</td>\n",
              "    </tr>\n",
              "    <tr>\n",
              "      <th>2</th>\n",
              "      <td>1005169</td>\n",
              "      <td>electronics</td>\n",
              "      <td>smartphone</td>\n",
              "      <td>None</td>\n",
              "      <td>samsung</td>\n",
              "      <td>0.879526</td>\n",
              "    </tr>\n",
              "    <tr>\n",
              "      <th>3</th>\n",
              "      <td>1005115</td>\n",
              "      <td>electronics</td>\n",
              "      <td>smartphone</td>\n",
              "      <td>None</td>\n",
              "      <td>apple</td>\n",
              "      <td>0.873914</td>\n",
              "    </tr>\n",
              "    <tr>\n",
              "      <th>4</th>\n",
              "      <td>1801690</td>\n",
              "      <td>electronics</td>\n",
              "      <td>video</td>\n",
              "      <td>tv</td>\n",
              "      <td>samsung</td>\n",
              "      <td>0.872607</td>\n",
              "    </tr>\n",
              "    <tr>\n",
              "      <th>5</th>\n",
              "      <td>1801690</td>\n",
              "      <td>electronics</td>\n",
              "      <td>video</td>\n",
              "      <td>tv</td>\n",
              "      <td>samsung</td>\n",
              "      <td>0.872607</td>\n",
              "    </tr>\n",
              "    <tr>\n",
              "      <th>6</th>\n",
              "      <td>1005173</td>\n",
              "      <td>electronics</td>\n",
              "      <td>smartphone</td>\n",
              "      <td>None</td>\n",
              "      <td>no_brand</td>\n",
              "      <td>0.866691</td>\n",
              "    </tr>\n",
              "    <tr>\n",
              "      <th>7</th>\n",
              "      <td>1005173</td>\n",
              "      <td>electronics</td>\n",
              "      <td>smartphone</td>\n",
              "      <td>None</td>\n",
              "      <td>samsung</td>\n",
              "      <td>0.866691</td>\n",
              "    </tr>\n",
              "    <tr>\n",
              "      <th>8</th>\n",
              "      <td>1004805</td>\n",
              "      <td>electronics</td>\n",
              "      <td>smartphone</td>\n",
              "      <td>None</td>\n",
              "      <td>xiaomi</td>\n",
              "      <td>0.863013</td>\n",
              "    </tr>\n",
              "    <tr>\n",
              "      <th>9</th>\n",
              "      <td>1005003</td>\n",
              "      <td>electronics</td>\n",
              "      <td>smartphone</td>\n",
              "      <td>None</td>\n",
              "      <td>huawei</td>\n",
              "      <td>0.861197</td>\n",
              "    </tr>\n",
              "    <tr>\n",
              "      <th>10</th>\n",
              "      <td>1004785</td>\n",
              "      <td>electronics</td>\n",
              "      <td>smartphone</td>\n",
              "      <td>None</td>\n",
              "      <td>huawei</td>\n",
              "      <td>0.860428</td>\n",
              "    </tr>\n",
              "    <tr>\n",
              "      <th>11</th>\n",
              "      <td>1307310</td>\n",
              "      <td>computers</td>\n",
              "      <td>notebook</td>\n",
              "      <td>None</td>\n",
              "      <td>acer</td>\n",
              "      <td>0.858922</td>\n",
              "    </tr>\n",
              "    <tr>\n",
              "      <th>12</th>\n",
              "      <td>1004874</td>\n",
              "      <td>electronics</td>\n",
              "      <td>smartphone</td>\n",
              "      <td>None</td>\n",
              "      <td>samsung</td>\n",
              "      <td>0.856317</td>\n",
              "    </tr>\n",
              "  </tbody>\n",
              "</table>\n",
              "</div>"
            ],
            "text/plain": [
              "    product_id     main_cat   sub_cat_1 sub_cat_2     brand     score\n",
              "0      1801690  electronics       video        tv   samsung  1.000000\n",
              "1      1801690  electronics       video        tv   samsung  1.000000\n",
              "2      1005169  electronics  smartphone      None   samsung  0.879526\n",
              "3      1005115  electronics  smartphone      None     apple  0.873914\n",
              "4      1801690  electronics       video        tv   samsung  0.872607\n",
              "5      1801690  electronics       video        tv   samsung  0.872607\n",
              "6      1005173  electronics  smartphone      None  no_brand  0.866691\n",
              "7      1005173  electronics  smartphone      None   samsung  0.866691\n",
              "8      1004805  electronics  smartphone      None    xiaomi  0.863013\n",
              "9      1005003  electronics  smartphone      None    huawei  0.861197\n",
              "10     1004785  electronics  smartphone      None    huawei  0.860428\n",
              "11     1307310    computers    notebook      None      acer  0.858922\n",
              "12     1004874  electronics  smartphone      None   samsung  0.856317"
            ]
          },
          "execution_count": 87,
          "metadata": {},
          "output_type": "execute_result"
        }
      ],
      "source": [
        "product_id = 1801690\n",
        "product_idx = list(grouped_cart_train['product_id']).index(product_id)\n",
        "\n",
        "similar_ids, similar_scores = imp_model.similar_items(product_idx)\n",
        "\n",
        "sim_items = pd.DataFrame({\"product_id\": grouped_cart_train[\"product_id\"][similar_ids], \n",
        "                        \"score\": similar_scores})\n",
        "\n",
        "als_sim_item_lookup = item_lookup_train.set_index(\"product_id\").loc[sim_items[\"product_id\"].to_list(), :].reset_index()\n",
        "als_sim_item_lookup.merge(sim_items).sort_values(\"score\", ascending=False).reset_index(drop=True)"
      ]
    },
    {
      "cell_type": "markdown",
      "metadata": {
        "id": "9-g09ZenJReC"
      },
      "source": []
    },
    {
      "cell_type": "code",
      "execution_count": null,
      "metadata": {
        "id": "A4IlWkdIJReC"
      },
      "outputs": [],
      "source": []
    },
    {
      "cell_type": "code",
      "execution_count": null,
      "metadata": {
        "id": "aX3qiE_mJReC"
      },
      "outputs": [],
      "source": []
    },
    {
      "cell_type": "code",
      "execution_count": null,
      "metadata": {
        "id": "93xpiPb5JReC"
      },
      "outputs": [],
      "source": []
    },
    {
      "cell_type": "code",
      "execution_count": null,
      "metadata": {
        "id": "-nhNc31GJReC"
      },
      "outputs": [],
      "source": []
    }
  ],
  "metadata": {
    "colab": {
      "name": "als_recommend.ipynb",
      "provenance": []
    },
    "interpreter": {
      "hash": "082be1bbb8cf51e79f7eecb97b4a3116b1b28bb6664706b22c0c7433d973cc3c"
    },
    "kernelspec": {
      "display_name": "Python 3.8.13 ('cp2')",
      "language": "python",
      "name": "python3"
    },
    "language_info": {
      "codemirror_mode": {
        "name": "ipython",
        "version": 3
      },
      "file_extension": ".py",
      "mimetype": "text/x-python",
      "name": "python",
      "nbconvert_exporter": "python",
      "pygments_lexer": "ipython3",
      "version": "3.8.13"
    },
    "orig_nbformat": 4
  },
  "nbformat": 4,
  "nbformat_minor": 0
}
